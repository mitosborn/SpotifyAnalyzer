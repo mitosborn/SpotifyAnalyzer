{
 "cells": [
  {
   "cell_type": "code",
   "execution_count": 1,
   "metadata": {},
   "outputs": [],
   "source": [
    "import pandas as pd\n",
    "from sklearn.tree import DecisionTreeClassifier\n",
    "from sklearn.model_selection import train_test_split\n",
    "from sklearn.metrics import accuracy_score\n",
    "from sklearn.ensemble import BaggingClassifier\n",
    "from sklearn.tree import ExtraTreeClassifier\n",
    "# from sklearn.externals import joblib#Predict popularity of song based on characteristics \n",
    "df = pd.read_csv('data/data.csv')"
   ]
  },
  {
   "cell_type": "code",
   "execution_count": 2,
   "metadata": {},
   "outputs": [
    {
     "data": {
      "text/html": [
       "<div>\n",
       "<style scoped>\n",
       "    .dataframe tbody tr th:only-of-type {\n",
       "        vertical-align: middle;\n",
       "    }\n",
       "\n",
       "    .dataframe tbody tr th {\n",
       "        vertical-align: top;\n",
       "    }\n",
       "\n",
       "    .dataframe thead th {\n",
       "        text-align: right;\n",
       "    }\n",
       "</style>\n",
       "<table border=\"1\" class=\"dataframe\">\n",
       "  <thead>\n",
       "    <tr style=\"text-align: right;\">\n",
       "      <th></th>\n",
       "      <th>valence</th>\n",
       "      <th>year</th>\n",
       "      <th>acousticness</th>\n",
       "      <th>danceability</th>\n",
       "      <th>duration_ms</th>\n",
       "      <th>energy</th>\n",
       "      <th>explicit</th>\n",
       "      <th>instrumentalness</th>\n",
       "      <th>key</th>\n",
       "      <th>liveness</th>\n",
       "      <th>loudness</th>\n",
       "      <th>mode</th>\n",
       "      <th>popularity</th>\n",
       "      <th>speechiness</th>\n",
       "      <th>tempo</th>\n",
       "    </tr>\n",
       "  </thead>\n",
       "  <tbody>\n",
       "    <tr>\n",
       "      <th>count</th>\n",
       "      <td>170653.000000</td>\n",
       "      <td>170653.000000</td>\n",
       "      <td>170653.000000</td>\n",
       "      <td>170653.000000</td>\n",
       "      <td>1.706530e+05</td>\n",
       "      <td>170653.000000</td>\n",
       "      <td>170653.000000</td>\n",
       "      <td>170653.000000</td>\n",
       "      <td>170653.000000</td>\n",
       "      <td>170653.000000</td>\n",
       "      <td>170653.000000</td>\n",
       "      <td>170653.000000</td>\n",
       "      <td>170653.000000</td>\n",
       "      <td>170653.000000</td>\n",
       "      <td>170653.000000</td>\n",
       "    </tr>\n",
       "    <tr>\n",
       "      <th>mean</th>\n",
       "      <td>0.528587</td>\n",
       "      <td>1976.787241</td>\n",
       "      <td>0.502115</td>\n",
       "      <td>0.537396</td>\n",
       "      <td>2.309483e+05</td>\n",
       "      <td>0.482389</td>\n",
       "      <td>0.084575</td>\n",
       "      <td>0.167010</td>\n",
       "      <td>5.199844</td>\n",
       "      <td>0.205839</td>\n",
       "      <td>-11.467990</td>\n",
       "      <td>0.706902</td>\n",
       "      <td>31.431794</td>\n",
       "      <td>0.098393</td>\n",
       "      <td>116.861590</td>\n",
       "    </tr>\n",
       "    <tr>\n",
       "      <th>std</th>\n",
       "      <td>0.263171</td>\n",
       "      <td>25.917853</td>\n",
       "      <td>0.376032</td>\n",
       "      <td>0.176138</td>\n",
       "      <td>1.261184e+05</td>\n",
       "      <td>0.267646</td>\n",
       "      <td>0.278249</td>\n",
       "      <td>0.313475</td>\n",
       "      <td>3.515094</td>\n",
       "      <td>0.174805</td>\n",
       "      <td>5.697943</td>\n",
       "      <td>0.455184</td>\n",
       "      <td>21.826615</td>\n",
       "      <td>0.162740</td>\n",
       "      <td>30.708533</td>\n",
       "    </tr>\n",
       "    <tr>\n",
       "      <th>min</th>\n",
       "      <td>0.000000</td>\n",
       "      <td>1921.000000</td>\n",
       "      <td>0.000000</td>\n",
       "      <td>0.000000</td>\n",
       "      <td>5.108000e+03</td>\n",
       "      <td>0.000000</td>\n",
       "      <td>0.000000</td>\n",
       "      <td>0.000000</td>\n",
       "      <td>0.000000</td>\n",
       "      <td>0.000000</td>\n",
       "      <td>-60.000000</td>\n",
       "      <td>0.000000</td>\n",
       "      <td>0.000000</td>\n",
       "      <td>0.000000</td>\n",
       "      <td>0.000000</td>\n",
       "    </tr>\n",
       "    <tr>\n",
       "      <th>25%</th>\n",
       "      <td>0.317000</td>\n",
       "      <td>1956.000000</td>\n",
       "      <td>0.102000</td>\n",
       "      <td>0.415000</td>\n",
       "      <td>1.698270e+05</td>\n",
       "      <td>0.255000</td>\n",
       "      <td>0.000000</td>\n",
       "      <td>0.000000</td>\n",
       "      <td>2.000000</td>\n",
       "      <td>0.098800</td>\n",
       "      <td>-14.615000</td>\n",
       "      <td>0.000000</td>\n",
       "      <td>11.000000</td>\n",
       "      <td>0.034900</td>\n",
       "      <td>93.421000</td>\n",
       "    </tr>\n",
       "    <tr>\n",
       "      <th>50%</th>\n",
       "      <td>0.540000</td>\n",
       "      <td>1977.000000</td>\n",
       "      <td>0.516000</td>\n",
       "      <td>0.548000</td>\n",
       "      <td>2.074670e+05</td>\n",
       "      <td>0.471000</td>\n",
       "      <td>0.000000</td>\n",
       "      <td>0.000216</td>\n",
       "      <td>5.000000</td>\n",
       "      <td>0.136000</td>\n",
       "      <td>-10.580000</td>\n",
       "      <td>1.000000</td>\n",
       "      <td>33.000000</td>\n",
       "      <td>0.045000</td>\n",
       "      <td>114.729000</td>\n",
       "    </tr>\n",
       "    <tr>\n",
       "      <th>75%</th>\n",
       "      <td>0.747000</td>\n",
       "      <td>1999.000000</td>\n",
       "      <td>0.893000</td>\n",
       "      <td>0.668000</td>\n",
       "      <td>2.624000e+05</td>\n",
       "      <td>0.703000</td>\n",
       "      <td>0.000000</td>\n",
       "      <td>0.102000</td>\n",
       "      <td>8.000000</td>\n",
       "      <td>0.261000</td>\n",
       "      <td>-7.183000</td>\n",
       "      <td>1.000000</td>\n",
       "      <td>48.000000</td>\n",
       "      <td>0.075600</td>\n",
       "      <td>135.537000</td>\n",
       "    </tr>\n",
       "    <tr>\n",
       "      <th>max</th>\n",
       "      <td>1.000000</td>\n",
       "      <td>2020.000000</td>\n",
       "      <td>0.996000</td>\n",
       "      <td>0.988000</td>\n",
       "      <td>5.403500e+06</td>\n",
       "      <td>1.000000</td>\n",
       "      <td>1.000000</td>\n",
       "      <td>1.000000</td>\n",
       "      <td>11.000000</td>\n",
       "      <td>1.000000</td>\n",
       "      <td>3.855000</td>\n",
       "      <td>1.000000</td>\n",
       "      <td>100.000000</td>\n",
       "      <td>0.970000</td>\n",
       "      <td>243.507000</td>\n",
       "    </tr>\n",
       "  </tbody>\n",
       "</table>\n",
       "</div>"
      ],
      "text/plain": [
       "             valence           year   acousticness   danceability  \\\n",
       "count  170653.000000  170653.000000  170653.000000  170653.000000   \n",
       "mean        0.528587    1976.787241       0.502115       0.537396   \n",
       "std         0.263171      25.917853       0.376032       0.176138   \n",
       "min         0.000000    1921.000000       0.000000       0.000000   \n",
       "25%         0.317000    1956.000000       0.102000       0.415000   \n",
       "50%         0.540000    1977.000000       0.516000       0.548000   \n",
       "75%         0.747000    1999.000000       0.893000       0.668000   \n",
       "max         1.000000    2020.000000       0.996000       0.988000   \n",
       "\n",
       "        duration_ms         energy       explicit  instrumentalness  \\\n",
       "count  1.706530e+05  170653.000000  170653.000000     170653.000000   \n",
       "mean   2.309483e+05       0.482389       0.084575          0.167010   \n",
       "std    1.261184e+05       0.267646       0.278249          0.313475   \n",
       "min    5.108000e+03       0.000000       0.000000          0.000000   \n",
       "25%    1.698270e+05       0.255000       0.000000          0.000000   \n",
       "50%    2.074670e+05       0.471000       0.000000          0.000216   \n",
       "75%    2.624000e+05       0.703000       0.000000          0.102000   \n",
       "max    5.403500e+06       1.000000       1.000000          1.000000   \n",
       "\n",
       "                 key       liveness       loudness           mode  \\\n",
       "count  170653.000000  170653.000000  170653.000000  170653.000000   \n",
       "mean        5.199844       0.205839     -11.467990       0.706902   \n",
       "std         3.515094       0.174805       5.697943       0.455184   \n",
       "min         0.000000       0.000000     -60.000000       0.000000   \n",
       "25%         2.000000       0.098800     -14.615000       0.000000   \n",
       "50%         5.000000       0.136000     -10.580000       1.000000   \n",
       "75%         8.000000       0.261000      -7.183000       1.000000   \n",
       "max        11.000000       1.000000       3.855000       1.000000   \n",
       "\n",
       "          popularity    speechiness          tempo  \n",
       "count  170653.000000  170653.000000  170653.000000  \n",
       "mean       31.431794       0.098393     116.861590  \n",
       "std        21.826615       0.162740      30.708533  \n",
       "min         0.000000       0.000000       0.000000  \n",
       "25%        11.000000       0.034900      93.421000  \n",
       "50%        33.000000       0.045000     114.729000  \n",
       "75%        48.000000       0.075600     135.537000  \n",
       "max       100.000000       0.970000     243.507000  "
      ]
     },
     "execution_count": 2,
     "metadata": {},
     "output_type": "execute_result"
    }
   ],
   "source": [
    "df.describe()"
   ]
  },
  {
   "cell_type": "code",
   "execution_count": 3,
   "metadata": {},
   "outputs": [
    {
     "data": {
      "text/plain": [
       "Index(['valence', 'year', 'acousticness', 'artists', 'danceability',\n",
       "       'duration_ms', 'energy', 'explicit', 'id', 'instrumentalness', 'key',\n",
       "       'liveness', 'loudness', 'mode', 'name', 'popularity', 'release_date',\n",
       "       'speechiness', 'tempo'],\n",
       "      dtype='object')"
      ]
     },
     "execution_count": 3,
     "metadata": {},
     "output_type": "execute_result"
    }
   ],
   "source": [
    "df.columns"
   ]
  },
  {
   "cell_type": "code",
   "execution_count": 137,
   "metadata": {},
   "outputs": [],
   "source": [
    "#Measure accuracy of model depending on genre being present \n",
    "X = df[['valence','acousticness','danceability','energy','loudness','speechiness','tempo']]"
   ]
  },
  {
   "cell_type": "code",
   "execution_count": 138,
   "metadata": {},
   "outputs": [
    {
     "data": {
      "text/plain": [
       "0         1920\n",
       "1         1920\n",
       "2         1920\n",
       "3         1920\n",
       "4         1920\n",
       "          ... \n",
       "170648    2020\n",
       "170649    2020\n",
       "170650    2020\n",
       "170651    2020\n",
       "170652    2020\n",
       "Name: year, Length: 170653, dtype: int64"
      ]
     },
     "execution_count": 138,
     "metadata": {},
     "output_type": "execute_result"
    }
   ],
   "source": [
    "def popularity_category(pop):\n",
    "    #Low pop lower 25% of data\n",
    "    if pop <= 11:\n",
    "        return 0\n",
    "    #Average between low and popular\n",
    "    elif pop > 11 and pop < 48:\n",
    "        return 1\n",
    "    #Popular: More popular than 75% of all songs right now\n",
    "    else:\n",
    "        return 2\n",
    "def get_decade(year):\n",
    "    str_year = str(year)[:-1] + '0'\n",
    "    return int(str_year)\n",
    "y = df['year'].apply(get_decade)\n",
    "y"
   ]
  },
  {
   "cell_type": "code",
   "execution_count": 164,
   "metadata": {},
   "outputs": [
    {
     "data": {
      "text/plain": [
       "0.2956842752922563"
      ]
     },
     "execution_count": 164,
     "metadata": {},
     "output_type": "execute_result"
    }
   ],
   "source": [
    "X_train, X_test, y_train, y_test = train_test_split(X , y, test_size = 0.2)\n",
    "\n",
    "#Define the model\n",
    "model = DecisionTreeClassifier()\n",
    "model.fit(X_train, y_train)\n",
    "#joblib.dump(model, 'spotify-recommender.joblib')\n",
    "\n",
    "predictions = model.predict(X_test)\n",
    "#Parameters: Expected values, values provided from the model\n",
    "\n",
    "score = accuracy_score(y_test, predictions)\n",
    "score"
   ]
  },
  {
   "cell_type": "code",
   "execution_count": 165,
   "metadata": {},
   "outputs": [
    {
     "data": {
      "text/plain": [
       "0.3557176760130087"
      ]
     },
     "execution_count": 165,
     "metadata": {},
     "output_type": "execute_result"
    }
   ],
   "source": [
    "cls = BaggingClassifier(model).fit(\n",
    "   X_train, y_train)\n",
    "cls.score(X_test, y_test)"
   ]
  },
  {
   "cell_type": "code",
   "execution_count": 166,
   "metadata": {},
   "outputs": [
    {
     "name": "stdout",
     "output_type": "stream",
     "text": [
      "hi\n"
     ]
    }
   ],
   "source": [
    "from sklearn.ensemble import BaggingClassifier\n",
    "from sklearn.tree import ExtraTreeClassifier\n",
    "from sklearn.neighbors import KNeighborsClassifier\n",
    "X_train, X_test, y_train, y_test = train_test_split(X , y, test_size = 0.2)\n",
    "extra_tree = DecisionTreeClassifier()\n",
    "# cls = BaggingClassifier(extra_tree).fit(\n",
    "#    X_train, y_train)\n",
    "# cls.score(X_test, y_test)\n",
    "print(\"hi\")\n"
   ]
  },
  {
   "cell_type": "code",
   "execution_count": 167,
   "metadata": {},
   "outputs": [
    {
     "data": {
      "text/plain": [
       "0.8575195570009668"
      ]
     },
     "execution_count": 167,
     "metadata": {},
     "output_type": "execute_result"
    }
   ],
   "source": [
    "extra_tree.fit(X_train, y_train)\n",
    "predictions = model.predict(X_test)\n",
    "#Parameters: Expected values, values provided from the model\n",
    "\n",
    "score = accuracy_score(y_test, predictions)\n",
    "score"
   ]
  },
  {
   "cell_type": "code",
   "execution_count": 65,
   "metadata": {},
   "outputs": [],
   "source": [
    "#I give you song characterstics and you return their predicted popularity"
   ]
  },
  {
   "cell_type": "code",
   "execution_count": 66,
   "metadata": {},
   "outputs": [],
   "source": [
    "## Song/Genre suggestor \n",
    "\n",
    "#Take in spotify data\n",
    "# Avg it\n",
    "\n",
    "# Calculate uniqueness score potentially?\n",
    "# Suggest eras their music tastes come from\n",
    "\n",
    "# \n",
    "\n",
    "# return genres that most match them and songs from there (sorted by popularity)\n",
    "    # Take difference between every genre and 1- diff to get % match"
   ]
  },
  {
   "cell_type": "code",
   "execution_count": 118,
   "metadata": {},
   "outputs": [
    {
     "data": {
      "text/plain": [
       "array([1990])"
      ]
     },
     "execution_count": 118,
     "metadata": {},
     "output_type": "execute_result"
    }
   ],
   "source": [
    "year_df = df[['year','valence','acousticness','danceability','energy','loudness','speechiness','tempo']]\n",
    "year_df = year_df.set_index('year')\n",
    "example_data = year_df.loc[1999]\n",
    "pred = model.predict([list(example_data)])\n",
    "pred"
   ]
  },
  {
   "cell_type": "code",
   "execution_count": 130,
   "metadata": {},
   "outputs": [],
   "source": [
    "songs_df = pd.read_csv('data/data.csv')\n",
    "songs_df = songs_df[['year','valence','acousticness','danceability','energy','loudness','speechiness','tempo']]\n",
    "actual = songs_df['year'].apply(get_decade)\n",
    "inputs = songs_df[['valence','acousticness','danceability','energy','loudness','speechiness','tempo']]\n",
    "pred = model.predict(inputs)"
   ]
  },
  {
   "cell_type": "code",
   "execution_count": 133,
   "metadata": {},
   "outputs": [
    {
     "data": {
      "text/plain": [
       "0.16876937411003615"
      ]
     },
     "execution_count": 133,
     "metadata": {},
     "output_type": "execute_result"
    }
   ],
   "source": [
    "score = accuracy_score(pred, list(actual))\n",
    "score"
   ]
  },
  {
   "cell_type": "code",
   "execution_count": 77,
   "metadata": {},
   "outputs": [],
   "source": [
    "###### PCA Kmeans on data #####\n",
    "from sklearn.preprocessing import StandardScaler\n",
    "from sklearn.preprocessing import MinMaxScaler\n",
    "from sklearn.decomposition import PCA\n",
    "from sklearn.cluster import KMeans # Our clustering algorithm\n",
    "from sklearn.decomposition import PCA # Needed for dimension reduction\n",
    "from sklearn.datasets import load_wine # Dataset that I will be using\n",
    "import matplotlib.pyplot as plt # Plotting \n",
    "import pandas as pd # Storing data convenieniently\n",
    "# features = df[['valence','acousticness', 'danceability',\n",
    "#        'duration_ms', 'energy', 'instrumentalness', 'key',\n",
    "#        'liveness', 'loudness',\n",
    "#        'speechiness', 'tempo']]\n",
    "features = df[['instrumentalness', 'speechiness', 'valence']]\n",
    "features_norm = MinMaxScaler().fit_transform(features) # normalizing the data "
   ]
  },
  {
   "cell_type": "code",
   "execution_count": 78,
   "metadata": {},
   "outputs": [
    {
     "name": "stdout",
     "output_type": "stream",
     "text": [
      "2\n"
     ]
    }
   ],
   "source": [
    "pca = PCA()\n",
    "pca.fit(features_norm)\n",
    "evr = pca.explained_variance_ratio_\n",
    "for i, exp_var in enumerate(evr.cumsum()):\n",
    "    if exp_var >= 0.8:\n",
    "        n_comps = i + 1\n",
    "        break\n",
    "print(n_comps)"
   ]
  },
  {
   "cell_type": "code",
   "execution_count": 79,
   "metadata": {},
   "outputs": [
    {
     "data": {
      "text/plain": [
       "array([[8.78000000e-01, 3.77319588e-02, 5.94000000e-02],\n",
       "       [0.00000000e+00, 4.27835052e-01, 9.63000000e-01],\n",
       "       [9.13000000e-01, 3.49484536e-02, 3.94000000e-02],\n",
       "       ...,\n",
       "       [8.56000000e-06, 8.34020619e-02, 6.37000000e-01],\n",
       "       [7.55000000e-06, 3.17525773e-01, 1.95000000e-01],\n",
       "       [4.71000000e-03, 1.11340206e-01, 6.42000000e-01]])"
      ]
     },
     "execution_count": 79,
     "metadata": {},
     "output_type": "execute_result"
    }
   ],
   "source": [
    "pca = PCA(n_components=  n_comps)\n",
    "principalComponents = pca.fit_transform(features_norm)\n",
    "features_norm"
   ]
  },
  {
   "cell_type": "code",
   "execution_count": 80,
   "metadata": {},
   "outputs": [
    {
     "data": {
      "image/png": "[encoded data removed]",
      "text/plain": [
       "<Figure size 432x288 with 1 Axes>"
      ]
     },
     "metadata": {
      "needs_background": "light"
     },
     "output_type": "display_data"
    }
   ],
   "source": [
    "# Plotting the variances for each PC\n",
    "PC = range(1, pca.n_components_+1)\n",
    "plt.bar(PC, pca.explained_variance_ratio_, color='gold')\n",
    "plt.xlabel('Principal Components')\n",
    "plt.ylabel('Variance %')\n",
    "plt.xticks(PC)\n",
    "\n",
    "# Putting components in a dataframe for later\n",
    "PCA_components = pd.DataFrame(principalComponents)"
   ]
  },
  {
   "cell_type": "code",
   "execution_count": 81,
   "metadata": {},
   "outputs": [
    {
     "data": {
      "image/png": "[encoded data removed]",
      "text/plain": [
       "<Figure size 432x288 with 1 Axes>"
      ]
     },
     "metadata": {
      "needs_background": "light"
     },
     "output_type": "display_data"
    }
   ],
   "source": [
    "plt.scatter(PCA_components[0][0:200], PCA_components[1][0:200], alpha=.3, color='gold')\n",
    "plt.xlabel('PCA 1')\n",
    "plt.ylabel('PCA 2')\n",
    "plt.show()"
   ]
  },
  {
   "cell_type": "code",
   "execution_count": 82,
   "metadata": {},
   "outputs": [
    {
     "data": {
      "image/png": "[encoded data removed]",
      "text/plain": [
       "<Figure size 432x288 with 1 Axes>"
      ]
     },
     "metadata": {
      "needs_background": "light"
     },
     "output_type": "display_data"
    }
   ],
   "source": [
    "inertias = []\n",
    "\n",
    "# Creating 10 K-Mean models while varying the number of clusters (k)\n",
    "for k in range(1,10):\n",
    "    model = KMeans(n_clusters=k)\n",
    "    \n",
    "    # Fit model to samples\n",
    "    model.fit(PCA_components.iloc[:,:3])\n",
    "    \n",
    "    # Append the inertia to the list of inertias\n",
    "    inertias.append(model.inertia_)\n",
    "    \n",
    "plt.plot(range(1,10), inertias, '-p', color='gold')\n",
    "plt.xlabel('number of clusters, k')\n",
    "plt.ylabel('inertia')\n",
    "#plt.xticks(ks)\n",
    "plt.show()"
   ]
  },
  {
   "cell_type": "code",
   "execution_count": null,
   "metadata": {},
   "outputs": [],
   "source": []
  },
  {
   "cell_type": "code",
   "execution_count": 83,
   "metadata": {},
   "outputs": [
    {
     "data": {
      "text/plain": [
       "[28688.89099524259,\n",
       " 12773.898716563846,\n",
       " 6473.817443952863,\n",
       " 4405.423379144005,\n",
       " 3105.1994585134876,\n",
       " 2629.7296240045225,\n",
       " 2187.461696971052,\n",
       " 1860.9739603030025,\n",
       " 1563.4552354670045]"
      ]
     },
     "execution_count": 83,
     "metadata": {},
     "output_type": "execute_result"
    }
   ],
   "source": [
    "inertias"
   ]
  },
  {
   "cell_type": "code",
   "execution_count": 100,
   "metadata": {},
   "outputs": [
    {
     "data": {
      "image/png": "[encoded data removed]",
      "text/plain": [
       "<Figure size 432x288 with 1 Axes>"
      ]
     },
     "metadata": {
      "needs_background": "light"
     },
     "output_type": "display_data"
    }
   ],
   "source": [
    "model = KMeans(n_clusters=300)\n",
    "model.fit(PCA_components.iloc[:,:2])\n",
    "\n",
    "labels = model.predict(PCA_components.iloc[:,:2])\n",
    "plt.scatter(PCA_components[0], PCA_components[1], c=labels)\n",
    "plt.show()"
   ]
  },
  {
   "cell_type": "code",
   "execution_count": 101,
   "metadata": {},
   "outputs": [
    {
     "data": {
      "text/plain": [
       "array([128, 290, 106, ..., 112,  69, 112], dtype=int32)"
      ]
     },
     "execution_count": 101,
     "metadata": {},
     "output_type": "execute_result"
    }
   ],
   "source": [
    "labels"
   ]
  },
  {
   "cell_type": "code",
   "execution_count": 102,
   "metadata": {},
   "outputs": [],
   "source": [
    "labels = pd.DataFrame(labels)\n",
    "labeledSongs = pd.concat((features,labels),axis = 1)\n",
    "labeledSongs = labeledSongs.rename({0:'labels'},axis = 1)"
   ]
  },
  {
   "cell_type": "code",
   "execution_count": 103,
   "metadata": {},
   "outputs": [
    {
     "data": {
      "text/html": [
       "<div>\n",
       "<style scoped>\n",
       "    .dataframe tbody tr th:only-of-type {\n",
       "        vertical-align: middle;\n",
       "    }\n",
       "\n",
       "    .dataframe tbody tr th {\n",
       "        vertical-align: top;\n",
       "    }\n",
       "\n",
       "    .dataframe thead th {\n",
       "        text-align: right;\n",
       "    }\n",
       "</style>\n",
       "<table border=\"1\" class=\"dataframe\">\n",
       "  <thead>\n",
       "    <tr style=\"text-align: right;\">\n",
       "      <th></th>\n",
       "      <th>instrumentalness</th>\n",
       "      <th>speechiness</th>\n",
       "      <th>valence</th>\n",
       "      <th>labels</th>\n",
       "    </tr>\n",
       "  </thead>\n",
       "  <tbody>\n",
       "    <tr>\n",
       "      <th>0</th>\n",
       "      <td>0.878000</td>\n",
       "      <td>0.0366</td>\n",
       "      <td>0.0594</td>\n",
       "      <td>128</td>\n",
       "    </tr>\n",
       "    <tr>\n",
       "      <th>1</th>\n",
       "      <td>0.000000</td>\n",
       "      <td>0.4150</td>\n",
       "      <td>0.9630</td>\n",
       "      <td>290</td>\n",
       "    </tr>\n",
       "    <tr>\n",
       "      <th>2</th>\n",
       "      <td>0.913000</td>\n",
       "      <td>0.0339</td>\n",
       "      <td>0.0394</td>\n",
       "      <td>106</td>\n",
       "    </tr>\n",
       "    <tr>\n",
       "      <th>3</th>\n",
       "      <td>0.000028</td>\n",
       "      <td>0.0354</td>\n",
       "      <td>0.1650</td>\n",
       "      <td>31</td>\n",
       "    </tr>\n",
       "    <tr>\n",
       "      <th>4</th>\n",
       "      <td>0.000002</td>\n",
       "      <td>0.0380</td>\n",
       "      <td>0.2530</td>\n",
       "      <td>263</td>\n",
       "    </tr>\n",
       "    <tr>\n",
       "      <th>...</th>\n",
       "      <td>...</td>\n",
       "      <td>...</td>\n",
       "      <td>...</td>\n",
       "      <td>...</td>\n",
       "    </tr>\n",
       "    <tr>\n",
       "      <th>170648</th>\n",
       "      <td>0.000289</td>\n",
       "      <td>0.0881</td>\n",
       "      <td>0.6080</td>\n",
       "      <td>63</td>\n",
       "    </tr>\n",
       "    <tr>\n",
       "      <th>170649</th>\n",
       "      <td>0.000000</td>\n",
       "      <td>0.0605</td>\n",
       "      <td>0.7340</td>\n",
       "      <td>206</td>\n",
       "    </tr>\n",
       "    <tr>\n",
       "      <th>170650</th>\n",
       "      <td>0.000009</td>\n",
       "      <td>0.0809</td>\n",
       "      <td>0.6370</td>\n",
       "      <td>112</td>\n",
       "    </tr>\n",
       "    <tr>\n",
       "      <th>170651</th>\n",
       "      <td>0.000008</td>\n",
       "      <td>0.3080</td>\n",
       "      <td>0.1950</td>\n",
       "      <td>69</td>\n",
       "    </tr>\n",
       "    <tr>\n",
       "      <th>170652</th>\n",
       "      <td>0.004710</td>\n",
       "      <td>0.1080</td>\n",
       "      <td>0.6420</td>\n",
       "      <td>112</td>\n",
       "    </tr>\n",
       "  </tbody>\n",
       "</table>\n",
       "<p>170653 rows × 4 columns</p>\n",
       "</div>"
      ],
      "text/plain": [
       "        instrumentalness  speechiness  valence  labels\n",
       "0               0.878000       0.0366   0.0594     128\n",
       "1               0.000000       0.4150   0.9630     290\n",
       "2               0.913000       0.0339   0.0394     106\n",
       "3               0.000028       0.0354   0.1650      31\n",
       "4               0.000002       0.0380   0.2530     263\n",
       "...                  ...          ...      ...     ...\n",
       "170648          0.000289       0.0881   0.6080      63\n",
       "170649          0.000000       0.0605   0.7340     206\n",
       "170650          0.000009       0.0809   0.6370     112\n",
       "170651          0.000008       0.3080   0.1950      69\n",
       "170652          0.004710       0.1080   0.6420     112\n",
       "\n",
       "[170653 rows x 4 columns]"
      ]
     },
     "execution_count": 103,
     "metadata": {},
     "output_type": "execute_result"
    }
   ],
   "source": [
    "labeledSongs"
   ]
  },
  {
   "cell_type": "code",
   "execution_count": 104,
   "metadata": {},
   "outputs": [],
   "source": [
    "to_add = set(df.columns) - set(features.columns)\n",
    "CompleteLabeledSongs = pd.concat((labeledSongs,df[to_add]),axis = 1)\n",
    "gg = CompleteLabeledSongs.groupby('labels')"
   ]
  },
  {
   "cell_type": "code",
   "execution_count": 105,
   "metadata": {},
   "outputs": [
    {
     "data": {
      "text/html": [
       "<div>\n",
       "<style scoped>\n",
       "    .dataframe tbody tr th:only-of-type {\n",
       "        vertical-align: middle;\n",
       "    }\n",
       "\n",
       "    .dataframe tbody tr th {\n",
       "        vertical-align: top;\n",
       "    }\n",
       "\n",
       "    .dataframe thead th {\n",
       "        text-align: right;\n",
       "    }\n",
       "</style>\n",
       "<table border=\"1\" class=\"dataframe\">\n",
       "  <thead>\n",
       "    <tr style=\"text-align: right;\">\n",
       "      <th></th>\n",
       "      <th>instrumentalness</th>\n",
       "      <th>speechiness</th>\n",
       "      <th>valence</th>\n",
       "      <th>labels</th>\n",
       "      <th>key</th>\n",
       "      <th>liveness</th>\n",
       "      <th>duration_ms</th>\n",
       "      <th>popularity</th>\n",
       "      <th>tempo</th>\n",
       "      <th>acousticness</th>\n",
       "      <th>loudness</th>\n",
       "      <th>artists</th>\n",
       "      <th>explicit</th>\n",
       "      <th>danceability</th>\n",
       "      <th>energy</th>\n",
       "      <th>mode</th>\n",
       "      <th>id</th>\n",
       "      <th>year</th>\n",
       "      <th>name</th>\n",
       "      <th>release_date</th>\n",
       "    </tr>\n",
       "  </thead>\n",
       "  <tbody>\n",
       "    <tr>\n",
       "      <th>64</th>\n",
       "      <td>0.927</td>\n",
       "      <td>0.0386</td>\n",
       "      <td>0.186</td>\n",
       "      <td>2</td>\n",
       "      <td>8</td>\n",
       "      <td>0.0980</td>\n",
       "      <td>132400</td>\n",
       "      <td>1</td>\n",
       "      <td>129.365</td>\n",
       "      <td>0.994000</td>\n",
       "      <td>-28.147</td>\n",
       "      <td>['Sergei Rachmaninoff', 'Ruth Laredo']</td>\n",
       "      <td>0</td>\n",
       "      <td>0.263</td>\n",
       "      <td>0.0536</td>\n",
       "      <td>1</td>\n",
       "      <td>2aMQAP0h9Qww5KAkMdag3L</td>\n",
       "      <td>1921</td>\n",
       "      <td>12 Songs, Op. 21: No. 5, Lilacs (Version for P...</td>\n",
       "      <td>1921</td>\n",
       "    </tr>\n",
       "    <tr>\n",
       "      <th>104</th>\n",
       "      <td>0.927</td>\n",
       "      <td>0.0386</td>\n",
       "      <td>0.186</td>\n",
       "      <td>2</td>\n",
       "      <td>8</td>\n",
       "      <td>0.0980</td>\n",
       "      <td>132400</td>\n",
       "      <td>0</td>\n",
       "      <td>129.365</td>\n",
       "      <td>0.994000</td>\n",
       "      <td>-28.147</td>\n",
       "      <td>['Sergei Rachmaninoff', 'Ruth Laredo']</td>\n",
       "      <td>0</td>\n",
       "      <td>0.263</td>\n",
       "      <td>0.0536</td>\n",
       "      <td>1</td>\n",
       "      <td>4i1aZH9CQyvsWtOulh6mbF</td>\n",
       "      <td>1921</td>\n",
       "      <td>12 Songs, Op. 21: No. 5, Lilacs (Version for P...</td>\n",
       "      <td>1921</td>\n",
       "    </tr>\n",
       "    <tr>\n",
       "      <th>334</th>\n",
       "      <td>0.917</td>\n",
       "      <td>0.0896</td>\n",
       "      <td>0.190</td>\n",
       "      <td>2</td>\n",
       "      <td>4</td>\n",
       "      <td>0.5100</td>\n",
       "      <td>167680</td>\n",
       "      <td>0</td>\n",
       "      <td>78.080</td>\n",
       "      <td>0.995000</td>\n",
       "      <td>-17.084</td>\n",
       "      <td>['Hafız Ahmet Celâl Tokses']</td>\n",
       "      <td>0</td>\n",
       "      <td>0.260</td>\n",
       "      <td>0.3330</td>\n",
       "      <td>1</td>\n",
       "      <td>1lxRFRONmnUxRz5YhQAAwX</td>\n",
       "      <td>1923</td>\n",
       "      <td>Pek Muztaribim</td>\n",
       "      <td>1923-12-18</td>\n",
       "    </tr>\n",
       "    <tr>\n",
       "      <th>1240</th>\n",
       "      <td>0.925</td>\n",
       "      <td>0.0361</td>\n",
       "      <td>0.178</td>\n",
       "      <td>2</td>\n",
       "      <td>6</td>\n",
       "      <td>0.0944</td>\n",
       "      <td>289560</td>\n",
       "      <td>14</td>\n",
       "      <td>76.984</td>\n",
       "      <td>0.986000</td>\n",
       "      <td>-25.593</td>\n",
       "      <td>['Frédéric Chopin', 'Arthur Rubinstein']</td>\n",
       "      <td>0</td>\n",
       "      <td>0.358</td>\n",
       "      <td>0.0278</td>\n",
       "      <td>1</td>\n",
       "      <td>1cDzoKTbFscFFFAVpTJlYR</td>\n",
       "      <td>1928</td>\n",
       "      <td>Chopin: Nocturne No. 3 in B Major, Op. 9 No. 3</td>\n",
       "      <td>1928</td>\n",
       "    </tr>\n",
       "    <tr>\n",
       "      <th>1311</th>\n",
       "      <td>0.931</td>\n",
       "      <td>0.0406</td>\n",
       "      <td>0.190</td>\n",
       "      <td>2</td>\n",
       "      <td>11</td>\n",
       "      <td>0.1900</td>\n",
       "      <td>246640</td>\n",
       "      <td>8</td>\n",
       "      <td>70.591</td>\n",
       "      <td>0.988000</td>\n",
       "      <td>-21.779</td>\n",
       "      <td>['Frédéric Chopin', 'Arthur Rubinstein']</td>\n",
       "      <td>0</td>\n",
       "      <td>0.265</td>\n",
       "      <td>0.0319</td>\n",
       "      <td>1</td>\n",
       "      <td>4eKPhD2rDsqQ8vr7F63ykA</td>\n",
       "      <td>1928</td>\n",
       "      <td>Chopin: Nocturne No. 19 in E Minor, Op. Posth....</td>\n",
       "      <td>1928</td>\n",
       "    </tr>\n",
       "    <tr>\n",
       "      <th>...</th>\n",
       "      <td>...</td>\n",
       "      <td>...</td>\n",
       "      <td>...</td>\n",
       "      <td>...</td>\n",
       "      <td>...</td>\n",
       "      <td>...</td>\n",
       "      <td>...</td>\n",
       "      <td>...</td>\n",
       "      <td>...</td>\n",
       "      <td>...</td>\n",
       "      <td>...</td>\n",
       "      <td>...</td>\n",
       "      <td>...</td>\n",
       "      <td>...</td>\n",
       "      <td>...</td>\n",
       "      <td>...</td>\n",
       "      <td>...</td>\n",
       "      <td>...</td>\n",
       "      <td>...</td>\n",
       "      <td>...</td>\n",
       "    </tr>\n",
       "    <tr>\n",
       "      <th>168497</th>\n",
       "      <td>0.932</td>\n",
       "      <td>0.0416</td>\n",
       "      <td>0.185</td>\n",
       "      <td>2</td>\n",
       "      <td>5</td>\n",
       "      <td>0.0832</td>\n",
       "      <td>184000</td>\n",
       "      <td>47</td>\n",
       "      <td>129.998</td>\n",
       "      <td>0.928000</td>\n",
       "      <td>-23.703</td>\n",
       "      <td>['Geotic']</td>\n",
       "      <td>0</td>\n",
       "      <td>0.163</td>\n",
       "      <td>0.0998</td>\n",
       "      <td>1</td>\n",
       "      <td>2SmpFBzYbSUeWo5UzQam0j</td>\n",
       "      <td>2010</td>\n",
       "      <td>Into Some Spirit World</td>\n",
       "      <td>2010-12-30</td>\n",
       "    </tr>\n",
       "    <tr>\n",
       "      <th>168709</th>\n",
       "      <td>0.938</td>\n",
       "      <td>0.0535</td>\n",
       "      <td>0.181</td>\n",
       "      <td>2</td>\n",
       "      <td>4</td>\n",
       "      <td>0.1170</td>\n",
       "      <td>271653</td>\n",
       "      <td>52</td>\n",
       "      <td>117.994</td>\n",
       "      <td>0.247000</td>\n",
       "      <td>-9.077</td>\n",
       "      <td>['Corvus Corax']</td>\n",
       "      <td>0</td>\n",
       "      <td>0.499</td>\n",
       "      <td>0.7250</td>\n",
       "      <td>1</td>\n",
       "      <td>7tXnuWfG0Ub7lhFTFK625v</td>\n",
       "      <td>2011</td>\n",
       "      <td>Sverker</td>\n",
       "      <td>2011-11-25</td>\n",
       "    </tr>\n",
       "    <tr>\n",
       "      <th>168751</th>\n",
       "      <td>0.916</td>\n",
       "      <td>0.0439</td>\n",
       "      <td>0.189</td>\n",
       "      <td>2</td>\n",
       "      <td>7</td>\n",
       "      <td>0.1110</td>\n",
       "      <td>330067</td>\n",
       "      <td>46</td>\n",
       "      <td>123.211</td>\n",
       "      <td>0.958000</td>\n",
       "      <td>-18.624</td>\n",
       "      <td>['Alexi Murdoch']</td>\n",
       "      <td>0</td>\n",
       "      <td>0.566</td>\n",
       "      <td>0.1270</td>\n",
       "      <td>1</td>\n",
       "      <td>2Tax7fSPDly9OLIAZRd0Dp</td>\n",
       "      <td>2011</td>\n",
       "      <td>Through The Dark</td>\n",
       "      <td>2011-03-08</td>\n",
       "    </tr>\n",
       "    <tr>\n",
       "      <th>169074</th>\n",
       "      <td>0.944</td>\n",
       "      <td>0.0419</td>\n",
       "      <td>0.184</td>\n",
       "      <td>2</td>\n",
       "      <td>11</td>\n",
       "      <td>0.1040</td>\n",
       "      <td>280990</td>\n",
       "      <td>57</td>\n",
       "      <td>127.980</td>\n",
       "      <td>0.000212</td>\n",
       "      <td>-4.655</td>\n",
       "      <td>['Showtek']</td>\n",
       "      <td>0</td>\n",
       "      <td>0.587</td>\n",
       "      <td>0.9060</td>\n",
       "      <td>0</td>\n",
       "      <td>4O799OM270z43L7pKzNqrt</td>\n",
       "      <td>2013</td>\n",
       "      <td>We Like to Party - Original Mix</td>\n",
       "      <td>2013-12-30</td>\n",
       "    </tr>\n",
       "    <tr>\n",
       "      <th>169454</th>\n",
       "      <td>0.942</td>\n",
       "      <td>0.0427</td>\n",
       "      <td>0.216</td>\n",
       "      <td>2</td>\n",
       "      <td>2</td>\n",
       "      <td>0.1130</td>\n",
       "      <td>288853</td>\n",
       "      <td>59</td>\n",
       "      <td>105.484</td>\n",
       "      <td>0.988000</td>\n",
       "      <td>-17.925</td>\n",
       "      <td>['Johann Pachelbel', 'Music Lab Collective', '...</td>\n",
       "      <td>0</td>\n",
       "      <td>0.407</td>\n",
       "      <td>0.1220</td>\n",
       "      <td>1</td>\n",
       "      <td>1p8Po4X9rWvMOuGR2vhVI2</td>\n",
       "      <td>2015</td>\n",
       "      <td>Canon in D Major, P.37</td>\n",
       "      <td>2015-03-01</td>\n",
       "    </tr>\n",
       "  </tbody>\n",
       "</table>\n",
       "<p>424 rows × 20 columns</p>\n",
       "</div>"
      ],
      "text/plain": [
       "        instrumentalness  speechiness  valence  labels  key  liveness  \\\n",
       "64                 0.927       0.0386    0.186       2    8    0.0980   \n",
       "104                0.927       0.0386    0.186       2    8    0.0980   \n",
       "334                0.917       0.0896    0.190       2    4    0.5100   \n",
       "1240               0.925       0.0361    0.178       2    6    0.0944   \n",
       "1311               0.931       0.0406    0.190       2   11    0.1900   \n",
       "...                  ...          ...      ...     ...  ...       ...   \n",
       "168497             0.932       0.0416    0.185       2    5    0.0832   \n",
       "168709             0.938       0.0535    0.181       2    4    0.1170   \n",
       "168751             0.916       0.0439    0.189       2    7    0.1110   \n",
       "169074             0.944       0.0419    0.184       2   11    0.1040   \n",
       "169454             0.942       0.0427    0.216       2    2    0.1130   \n",
       "\n",
       "        duration_ms  popularity    tempo  acousticness  loudness  \\\n",
       "64           132400           1  129.365      0.994000   -28.147   \n",
       "104          132400           0  129.365      0.994000   -28.147   \n",
       "334          167680           0   78.080      0.995000   -17.084   \n",
       "1240         289560          14   76.984      0.986000   -25.593   \n",
       "1311         246640           8   70.591      0.988000   -21.779   \n",
       "...             ...         ...      ...           ...       ...   \n",
       "168497       184000          47  129.998      0.928000   -23.703   \n",
       "168709       271653          52  117.994      0.247000    -9.077   \n",
       "168751       330067          46  123.211      0.958000   -18.624   \n",
       "169074       280990          57  127.980      0.000212    -4.655   \n",
       "169454       288853          59  105.484      0.988000   -17.925   \n",
       "\n",
       "                                                  artists  explicit  \\\n",
       "64                 ['Sergei Rachmaninoff', 'Ruth Laredo']         0   \n",
       "104                ['Sergei Rachmaninoff', 'Ruth Laredo']         0   \n",
       "334                          ['Hafız Ahmet Celâl Tokses']         0   \n",
       "1240             ['Frédéric Chopin', 'Arthur Rubinstein']         0   \n",
       "1311             ['Frédéric Chopin', 'Arthur Rubinstein']         0   \n",
       "...                                                   ...       ...   \n",
       "168497                                         ['Geotic']         0   \n",
       "168709                                   ['Corvus Corax']         0   \n",
       "168751                                  ['Alexi Murdoch']         0   \n",
       "169074                                        ['Showtek']         0   \n",
       "169454  ['Johann Pachelbel', 'Music Lab Collective', '...         0   \n",
       "\n",
       "        danceability  energy  mode                      id  year  \\\n",
       "64             0.263  0.0536     1  2aMQAP0h9Qww5KAkMdag3L  1921   \n",
       "104            0.263  0.0536     1  4i1aZH9CQyvsWtOulh6mbF  1921   \n",
       "334            0.260  0.3330     1  1lxRFRONmnUxRz5YhQAAwX  1923   \n",
       "1240           0.358  0.0278     1  1cDzoKTbFscFFFAVpTJlYR  1928   \n",
       "1311           0.265  0.0319     1  4eKPhD2rDsqQ8vr7F63ykA  1928   \n",
       "...              ...     ...   ...                     ...   ...   \n",
       "168497         0.163  0.0998     1  2SmpFBzYbSUeWo5UzQam0j  2010   \n",
       "168709         0.499  0.7250     1  7tXnuWfG0Ub7lhFTFK625v  2011   \n",
       "168751         0.566  0.1270     1  2Tax7fSPDly9OLIAZRd0Dp  2011   \n",
       "169074         0.587  0.9060     0  4O799OM270z43L7pKzNqrt  2013   \n",
       "169454         0.407  0.1220     1  1p8Po4X9rWvMOuGR2vhVI2  2015   \n",
       "\n",
       "                                                     name release_date  \n",
       "64      12 Songs, Op. 21: No. 5, Lilacs (Version for P...         1921  \n",
       "104     12 Songs, Op. 21: No. 5, Lilacs (Version for P...         1921  \n",
       "334                                        Pek Muztaribim   1923-12-18  \n",
       "1240       Chopin: Nocturne No. 3 in B Major, Op. 9 No. 3         1928  \n",
       "1311    Chopin: Nocturne No. 19 in E Minor, Op. Posth....         1928  \n",
       "...                                                   ...          ...  \n",
       "168497                             Into Some Spirit World   2010-12-30  \n",
       "168709                                            Sverker   2011-11-25  \n",
       "168751                                   Through The Dark   2011-03-08  \n",
       "169074                    We Like to Party - Original Mix   2013-12-30  \n",
       "169454                             Canon in D Major, P.37   2015-03-01  \n",
       "\n",
       "[424 rows x 20 columns]"
      ]
     },
     "execution_count": 105,
     "metadata": {},
     "output_type": "execute_result"
    }
   ],
   "source": [
    "gg.get_group(2)"
   ]
  },
  {
   "cell_type": "code",
   "execution_count": null,
   "metadata": {},
   "outputs": [],
   "source": []
  }
 ],
 "metadata": {
  "kernelspec": {
   "display_name": "Python 3",
   "language": "python",
   "name": "python3"
  },
  "language_info": {
   "codemirror_mode": {
    "name": "ipython",
    "version": 3
   },
   "file_extension": ".py",
   "mimetype": "text/x-python",
   "name": "python",
   "nbconvert_exporter": "python",
   "pygments_lexer": "ipython3",
   "version": "3.6.12"
  }
 },
 "nbformat": 4,
 "nbformat_minor": 4
}
