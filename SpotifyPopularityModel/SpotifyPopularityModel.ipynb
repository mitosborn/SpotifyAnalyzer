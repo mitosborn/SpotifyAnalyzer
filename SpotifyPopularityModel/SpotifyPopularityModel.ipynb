{
 "cells": [
  {
   "cell_type": "code",
   "execution_count": 22,
   "metadata": {},
   "outputs": [],
   "source": [
    "import pandas as pd\n",
    "from sklearn.tree import DecisionTreeClassifier\n",
    "from sklearn.model_selection import train_test_split\n",
    "from sklearn.metrics import accuracy_score\n",
    "from sklearn.externals import joblib#Predict popularity of song based on characteristics \n",
    "df = pd.read_csv('data/data.csv')"
   ]
  },
  {
   "cell_type": "code",
   "execution_count": 23,
   "metadata": {},
   "outputs": [
    {
     "data": {
      "text/html": [
       "<div>\n",
       "<style scoped>\n",
       "    .dataframe tbody tr th:only-of-type {\n",
       "        vertical-align: middle;\n",
       "    }\n",
       "\n",
       "    .dataframe tbody tr th {\n",
       "        vertical-align: top;\n",
       "    }\n",
       "\n",
       "    .dataframe thead th {\n",
       "        text-align: right;\n",
       "    }\n",
       "</style>\n",
       "<table border=\"1\" class=\"dataframe\">\n",
       "  <thead>\n",
       "    <tr style=\"text-align: right;\">\n",
       "      <th></th>\n",
       "      <th>valence</th>\n",
       "      <th>year</th>\n",
       "      <th>acousticness</th>\n",
       "      <th>danceability</th>\n",
       "      <th>duration_ms</th>\n",
       "      <th>energy</th>\n",
       "      <th>explicit</th>\n",
       "      <th>instrumentalness</th>\n",
       "      <th>key</th>\n",
       "      <th>liveness</th>\n",
       "      <th>loudness</th>\n",
       "      <th>mode</th>\n",
       "      <th>popularity</th>\n",
       "      <th>speechiness</th>\n",
       "      <th>tempo</th>\n",
       "    </tr>\n",
       "  </thead>\n",
       "  <tbody>\n",
       "    <tr>\n",
       "      <th>count</th>\n",
       "      <td>170653.000000</td>\n",
       "      <td>170653.000000</td>\n",
       "      <td>170653.000000</td>\n",
       "      <td>170653.000000</td>\n",
       "      <td>1.706530e+05</td>\n",
       "      <td>170653.000000</td>\n",
       "      <td>170653.000000</td>\n",
       "      <td>170653.000000</td>\n",
       "      <td>170653.000000</td>\n",
       "      <td>170653.000000</td>\n",
       "      <td>170653.000000</td>\n",
       "      <td>170653.000000</td>\n",
       "      <td>170653.000000</td>\n",
       "      <td>170653.000000</td>\n",
       "      <td>170653.000000</td>\n",
       "    </tr>\n",
       "    <tr>\n",
       "      <th>mean</th>\n",
       "      <td>0.528587</td>\n",
       "      <td>1976.787241</td>\n",
       "      <td>0.502115</td>\n",
       "      <td>0.537396</td>\n",
       "      <td>2.309483e+05</td>\n",
       "      <td>0.482389</td>\n",
       "      <td>0.084575</td>\n",
       "      <td>0.167010</td>\n",
       "      <td>5.199844</td>\n",
       "      <td>0.205839</td>\n",
       "      <td>-11.467990</td>\n",
       "      <td>0.706902</td>\n",
       "      <td>31.431794</td>\n",
       "      <td>0.098393</td>\n",
       "      <td>116.861590</td>\n",
       "    </tr>\n",
       "    <tr>\n",
       "      <th>std</th>\n",
       "      <td>0.263171</td>\n",
       "      <td>25.917853</td>\n",
       "      <td>0.376032</td>\n",
       "      <td>0.176138</td>\n",
       "      <td>1.261184e+05</td>\n",
       "      <td>0.267646</td>\n",
       "      <td>0.278249</td>\n",
       "      <td>0.313475</td>\n",
       "      <td>3.515094</td>\n",
       "      <td>0.174805</td>\n",
       "      <td>5.697943</td>\n",
       "      <td>0.455184</td>\n",
       "      <td>21.826615</td>\n",
       "      <td>0.162740</td>\n",
       "      <td>30.708533</td>\n",
       "    </tr>\n",
       "    <tr>\n",
       "      <th>min</th>\n",
       "      <td>0.000000</td>\n",
       "      <td>1921.000000</td>\n",
       "      <td>0.000000</td>\n",
       "      <td>0.000000</td>\n",
       "      <td>5.108000e+03</td>\n",
       "      <td>0.000000</td>\n",
       "      <td>0.000000</td>\n",
       "      <td>0.000000</td>\n",
       "      <td>0.000000</td>\n",
       "      <td>0.000000</td>\n",
       "      <td>-60.000000</td>\n",
       "      <td>0.000000</td>\n",
       "      <td>0.000000</td>\n",
       "      <td>0.000000</td>\n",
       "      <td>0.000000</td>\n",
       "    </tr>\n",
       "    <tr>\n",
       "      <th>25%</th>\n",
       "      <td>0.317000</td>\n",
       "      <td>1956.000000</td>\n",
       "      <td>0.102000</td>\n",
       "      <td>0.415000</td>\n",
       "      <td>1.698270e+05</td>\n",
       "      <td>0.255000</td>\n",
       "      <td>0.000000</td>\n",
       "      <td>0.000000</td>\n",
       "      <td>2.000000</td>\n",
       "      <td>0.098800</td>\n",
       "      <td>-14.615000</td>\n",
       "      <td>0.000000</td>\n",
       "      <td>11.000000</td>\n",
       "      <td>0.034900</td>\n",
       "      <td>93.421000</td>\n",
       "    </tr>\n",
       "    <tr>\n",
       "      <th>50%</th>\n",
       "      <td>0.540000</td>\n",
       "      <td>1977.000000</td>\n",
       "      <td>0.516000</td>\n",
       "      <td>0.548000</td>\n",
       "      <td>2.074670e+05</td>\n",
       "      <td>0.471000</td>\n",
       "      <td>0.000000</td>\n",
       "      <td>0.000216</td>\n",
       "      <td>5.000000</td>\n",
       "      <td>0.136000</td>\n",
       "      <td>-10.580000</td>\n",
       "      <td>1.000000</td>\n",
       "      <td>33.000000</td>\n",
       "      <td>0.045000</td>\n",
       "      <td>114.729000</td>\n",
       "    </tr>\n",
       "    <tr>\n",
       "      <th>75%</th>\n",
       "      <td>0.747000</td>\n",
       "      <td>1999.000000</td>\n",
       "      <td>0.893000</td>\n",
       "      <td>0.668000</td>\n",
       "      <td>2.624000e+05</td>\n",
       "      <td>0.703000</td>\n",
       "      <td>0.000000</td>\n",
       "      <td>0.102000</td>\n",
       "      <td>8.000000</td>\n",
       "      <td>0.261000</td>\n",
       "      <td>-7.183000</td>\n",
       "      <td>1.000000</td>\n",
       "      <td>48.000000</td>\n",
       "      <td>0.075600</td>\n",
       "      <td>135.537000</td>\n",
       "    </tr>\n",
       "    <tr>\n",
       "      <th>max</th>\n",
       "      <td>1.000000</td>\n",
       "      <td>2020.000000</td>\n",
       "      <td>0.996000</td>\n",
       "      <td>0.988000</td>\n",
       "      <td>5.403500e+06</td>\n",
       "      <td>1.000000</td>\n",
       "      <td>1.000000</td>\n",
       "      <td>1.000000</td>\n",
       "      <td>11.000000</td>\n",
       "      <td>1.000000</td>\n",
       "      <td>3.855000</td>\n",
       "      <td>1.000000</td>\n",
       "      <td>100.000000</td>\n",
       "      <td>0.970000</td>\n",
       "      <td>243.507000</td>\n",
       "    </tr>\n",
       "  </tbody>\n",
       "</table>\n",
       "</div>"
      ],
      "text/plain": [
       "             valence           year   acousticness   danceability  \\\n",
       "count  170653.000000  170653.000000  170653.000000  170653.000000   \n",
       "mean        0.528587    1976.787241       0.502115       0.537396   \n",
       "std         0.263171      25.917853       0.376032       0.176138   \n",
       "min         0.000000    1921.000000       0.000000       0.000000   \n",
       "25%         0.317000    1956.000000       0.102000       0.415000   \n",
       "50%         0.540000    1977.000000       0.516000       0.548000   \n",
       "75%         0.747000    1999.000000       0.893000       0.668000   \n",
       "max         1.000000    2020.000000       0.996000       0.988000   \n",
       "\n",
       "        duration_ms         energy       explicit  instrumentalness  \\\n",
       "count  1.706530e+05  170653.000000  170653.000000     170653.000000   \n",
       "mean   2.309483e+05       0.482389       0.084575          0.167010   \n",
       "std    1.261184e+05       0.267646       0.278249          0.313475   \n",
       "min    5.108000e+03       0.000000       0.000000          0.000000   \n",
       "25%    1.698270e+05       0.255000       0.000000          0.000000   \n",
       "50%    2.074670e+05       0.471000       0.000000          0.000216   \n",
       "75%    2.624000e+05       0.703000       0.000000          0.102000   \n",
       "max    5.403500e+06       1.000000       1.000000          1.000000   \n",
       "\n",
       "                 key       liveness       loudness           mode  \\\n",
       "count  170653.000000  170653.000000  170653.000000  170653.000000   \n",
       "mean        5.199844       0.205839     -11.467990       0.706902   \n",
       "std         3.515094       0.174805       5.697943       0.455184   \n",
       "min         0.000000       0.000000     -60.000000       0.000000   \n",
       "25%         2.000000       0.098800     -14.615000       0.000000   \n",
       "50%         5.000000       0.136000     -10.580000       1.000000   \n",
       "75%         8.000000       0.261000      -7.183000       1.000000   \n",
       "max        11.000000       1.000000       3.855000       1.000000   \n",
       "\n",
       "          popularity    speechiness          tempo  \n",
       "count  170653.000000  170653.000000  170653.000000  \n",
       "mean       31.431794       0.098393     116.861590  \n",
       "std        21.826615       0.162740      30.708533  \n",
       "min         0.000000       0.000000       0.000000  \n",
       "25%        11.000000       0.034900      93.421000  \n",
       "50%        33.000000       0.045000     114.729000  \n",
       "75%        48.000000       0.075600     135.537000  \n",
       "max       100.000000       0.970000     243.507000  "
      ]
     },
     "execution_count": 23,
     "metadata": {},
     "output_type": "execute_result"
    }
   ],
   "source": [
    "df.describe()"
   ]
  },
  {
   "cell_type": "code",
   "execution_count": 24,
   "metadata": {},
   "outputs": [
    {
     "data": {
      "text/plain": [
       "Index(['valence', 'year', 'acousticness', 'artists', 'danceability',\n",
       "       'duration_ms', 'energy', 'explicit', 'id', 'instrumentalness', 'key',\n",
       "       'liveness', 'loudness', 'mode', 'name', 'popularity', 'release_date',\n",
       "       'speechiness', 'tempo'],\n",
       "      dtype='object')"
      ]
     },
     "execution_count": 24,
     "metadata": {},
     "output_type": "execute_result"
    }
   ],
   "source": [
    "df.columns"
   ]
  },
  {
   "cell_type": "code",
   "execution_count": 25,
   "metadata": {},
   "outputs": [],
   "source": [
    "#Measure accuracy of model depending on genre being present \n",
    "X = df[['valence','year','acousticness','danceability','energy','loudness','speechiness','tempo']]"
   ]
  },
  {
   "cell_type": "code",
   "execution_count": 26,
   "metadata": {},
   "outputs": [],
   "source": [
    "def popularity_category(pop):\n",
    "    #Low pop lower 25% of data\n",
    "    if pop <= 11:\n",
    "        return 0\n",
    "    #Average between low and popular\n",
    "    elif pop > 11 and pop < 48:\n",
    "        return 1\n",
    "    #Popular: More popular than 75% of all songs right now\n",
    "    else:\n",
    "        return 2\n",
    "y = df['popularity'].apply(popularity_category)"
   ]
  },
  {
   "cell_type": "code",
   "execution_count": 61,
   "metadata": {},
   "outputs": [
    {
     "data": {
      "text/plain": [
       "0.7355483284990185"
      ]
     },
     "execution_count": 61,
     "metadata": {},
     "output_type": "execute_result"
    }
   ],
   "source": [
    "X_train, X_test, y_train, y_test = train_test_split(X , y, test_size = 0.2)\n",
    "\n",
    "#Define the model\n",
    "model = DecisionTreeClassifier()\n",
    "model.fit(X_train, y_train)\n",
    "#joblib.dump(model, 'spotify-recommender.joblib')\n",
    "\n",
    "predictions = model.predict(X_test)\n",
    "#Parameters: Expected values, values provided from the model\n",
    "\n",
    "score = accuracy_score(y_test, predictions)\n",
    "score"
   ]
  },
  {
   "cell_type": "code",
   "execution_count": 62,
   "metadata": {},
   "outputs": [
    {
     "data": {
      "text/plain": [
       "0.8005039406990713"
      ]
     },
     "execution_count": 62,
     "metadata": {},
     "output_type": "execute_result"
    }
   ],
   "source": [
    "cls = BaggingClassifier(model).fit(\n",
    "   X_train, y_train)\n",
    "cls.score(X_test, y_test)"
   ]
  },
  {
   "cell_type": "code",
   "execution_count": 34,
   "metadata": {},
   "outputs": [],
   "source": [
    "from sklearn import tree\n",
    "\n",
    "tree.export_graphviz(model, out_file = 'spotify-recommender.dot', feature_names = sorted(X.columns.unique()), class_names = ['0','1','2'])\n"
   ]
  },
  {
   "cell_type": "code",
   "execution_count": 58,
   "metadata": {},
   "outputs": [
    {
     "name": "stdout",
     "output_type": "stream",
     "text": [
      "hi\n"
     ]
    }
   ],
   "source": [
    "from sklearn.ensemble import BaggingClassifier\n",
    "from sklearn.tree import ExtraTreeClassifier\n",
    "\n",
    "X_train, X_test, y_train, y_test = train_test_split(X , y, test_size = 0.2)\n",
    "extra_tree = ExtraTreeClassifier()\n",
    "# cls = BaggingClassifier(extra_tree).fit(\n",
    "#    X_train, y_train)\n",
    "# cls.score(X_test, y_test)\n",
    "print(\"hi\")\n"
   ]
  },
  {
   "cell_type": "code",
   "execution_count": 59,
   "metadata": {},
   "outputs": [
    {
     "data": {
      "text/plain": [
       "0.943482464621605"
      ]
     },
     "execution_count": 59,
     "metadata": {},
     "output_type": "execute_result"
    }
   ],
   "source": [
    "extra_tree.fit(X_train, y_train)\n",
    "predictions = model.predict(X_test)\n",
    "#Parameters: Expected values, values provided from the model\n",
    "\n",
    "score = accuracy_score(y_test, predictions)\n",
    "score"
   ]
  },
  {
   "cell_type": "code",
   "execution_count": 63,
   "metadata": {},
   "outputs": [],
   "source": [
    "#I give you song characterstics and you return their predicted popularity"
   ]
  },
  {
   "cell_type": "code",
   "execution_count": 64,
   "metadata": {},
   "outputs": [],
   "source": [
    "## Song/Genre suggestor \n",
    "\n",
    "#Take in spotify data\n",
    "# Avg it\n",
    "\n",
    "# Calculate uniqueness score potentially?\n",
    "# Suggest eras their music tastes come from\n",
    "\n",
    "# \n",
    "\n",
    "# return genres that most match them and songs from there (sorted by popularity)\n",
    "    # Take difference between every genre and 1- diff to get % match"
   ]
  },
  {
   "cell_type": "code",
   "execution_count": 1,
   "metadata": {},
   "outputs": [
    {
     "name": "stdout",
     "output_type": "stream",
     "text": [
      "0 Say It Ain't So\n",
      "{'album': {'album_type': 'album', 'artists': [{'external_urls': {'spotify': 'https://open.spotify.com/artist/3jOstUTkEu2JkjvRdBA5Gu'}, 'href': 'https://api.spotify.com/v1/artists/3jOstUTkEu2JkjvRdBA5Gu', 'id': '3jOstUTkEu2JkjvRdBA5Gu', 'name': 'Weezer', 'type': 'artist', 'uri': 'spotify:artist:3jOstUTkEu2JkjvRdBA5Gu'}], 'available_markets': ['AD', 'AE', 'AL', 'AR', 'AT', 'AU', 'BA', 'BE', 'BG', 'BH', 'BO', 'BR', 'BY', 'CA', 'CH', 'CL', 'CO', 'CR', 'CY', 'CZ', 'DE', 'DK', 'DO', 'DZ', 'EC', 'EE', 'EG', 'ES', 'FI', 'FR', 'GB', 'GR', 'GT', 'HK', 'HN', 'HR', 'HU', 'ID', 'IE', 'IL', 'IN', 'IS', 'IT', 'JO', 'JP', 'KW', 'KZ', 'LB', 'LI', 'LT', 'LU', 'LV', 'MA', 'MC', 'MD', 'ME', 'MK', 'MT', 'MX', 'MY', 'NI', 'NL', 'NO', 'NZ', 'OM', 'PA', 'PE', 'PH', 'PL', 'PS', 'PT', 'PY', 'QA', 'RO', 'RS', 'RU', 'SA', 'SE', 'SG', 'SI', 'SK', 'SV', 'TH', 'TN', 'TR', 'TW', 'UA', 'US', 'UY', 'VN', 'XK', 'ZA'], 'external_urls': {'spotify': 'https://open.spotify.com/album/1xpGyKyV26uPstk1Elgp9Q'}, 'href': 'https://api.spotify.com/v1/albums/1xpGyKyV26uPstk1Elgp9Q', 'id': '1xpGyKyV26uPstk1Elgp9Q', 'images': [{'height': 640, 'url': 'https://i.scdn.co/image/ab67616d0000b273345536847e60f622ee0eae96', 'width': 640}, {'height': 300, 'url': 'https://i.scdn.co/image/ab67616d00001e02345536847e60f622ee0eae96', 'width': 300}, {'height': 64, 'url': 'https://i.scdn.co/image/ab67616d00004851345536847e60f622ee0eae96', 'width': 64}], 'name': 'Weezer', 'release_date': '1994-05-10', 'release_date_precision': 'day', 'total_tracks': 10, 'type': 'album', 'uri': 'spotify:album:1xpGyKyV26uPstk1Elgp9Q'}, 'artists': [{'external_urls': {'spotify': 'https://open.spotify.com/artist/3jOstUTkEu2JkjvRdBA5Gu'}, 'href': 'https://api.spotify.com/v1/artists/3jOstUTkEu2JkjvRdBA5Gu', 'id': '3jOstUTkEu2JkjvRdBA5Gu', 'name': 'Weezer', 'type': 'artist', 'uri': 'spotify:artist:3jOstUTkEu2JkjvRdBA5Gu'}], 'available_markets': ['AD', 'AE', 'AL', 'AR', 'AT', 'AU', 'BA', 'BE', 'BG', 'BH', 'BO', 'BR', 'BY', 'CA', 'CH', 'CL', 'CO', 'CR', 'CY', 'CZ', 'DE', 'DK', 'DO', 'DZ', 'EC', 'EE', 'EG', 'ES', 'FI', 'FR', 'GB', 'GR', 'GT', 'HK', 'HN', 'HR', 'HU', 'ID', 'IE', 'IL', 'IN', 'IS', 'IT', 'JO', 'JP', 'KW', 'KZ', 'LB', 'LI', 'LT', 'LU', 'LV', 'MA', 'MC', 'MD', 'ME', 'MK', 'MT', 'MX', 'MY', 'NI', 'NL', 'NO', 'NZ', 'OM', 'PA', 'PE', 'PH', 'PL', 'PS', 'PT', 'PY', 'QA', 'RO', 'RS', 'RU', 'SA', 'SE', 'SG', 'SI', 'SK', 'SV', 'TH', 'TN', 'TR', 'TW', 'UA', 'US', 'UY', 'VN', 'XK', 'ZA'], 'disc_number': 1, 'duration_ms': 258826, 'explicit': False, 'external_ids': {'isrc': 'USGF19962907'}, 'external_urls': {'spotify': 'https://open.spotify.com/track/6VoIBz0VhCyz7OdEoRYDiA'}, 'href': 'https://api.spotify.com/v1/tracks/6VoIBz0VhCyz7OdEoRYDiA', 'id': '6VoIBz0VhCyz7OdEoRYDiA', 'is_local': False, 'name': \"Say It Ain't So\", 'popularity': 76, 'preview_url': None, 'track_number': 7, 'type': 'track', 'uri': 'spotify:track:6VoIBz0VhCyz7OdEoRYDiA'}\n",
      "1 Island In The Sun\n",
      "{'album': {'album_type': 'album', 'artists': [{'external_urls': {'spotify': 'https://open.spotify.com/artist/3jOstUTkEu2JkjvRdBA5Gu'}, 'href': 'https://api.spotify.com/v1/artists/3jOstUTkEu2JkjvRdBA5Gu', 'id': '3jOstUTkEu2JkjvRdBA5Gu', 'name': 'Weezer', 'type': 'artist', 'uri': 'spotify:artist:3jOstUTkEu2JkjvRdBA5Gu'}], 'available_markets': ['AD', 'AE', 'AL', 'AR', 'AT', 'AU', 'BA', 'BE', 'BG', 'BH', 'BO', 'BR', 'BY', 'CA', 'CH', 'CL', 'CO', 'CR', 'CY', 'CZ', 'DE', 'DK', 'DO', 'DZ', 'EC', 'EE', 'EG', 'ES', 'FI', 'FR', 'GR', 'GT', 'HK', 'HN', 'HR', 'HU', 'ID', 'IL', 'IN', 'IS', 'IT', 'JO', 'JP', 'KW', 'KZ', 'LB', 'LI', 'LT', 'LU', 'LV', 'MA', 'MC', 'MD', 'ME', 'MK', 'MT', 'MX', 'MY', 'NI', 'NL', 'NO', 'NZ', 'OM', 'PA', 'PE', 'PH', 'PL', 'PS', 'PT', 'PY', 'QA', 'RO', 'RS', 'RU', 'SA', 'SE', 'SG', 'SI', 'SK', 'SV', 'TH', 'TN', 'TR', 'TW', 'UA', 'US', 'UY', 'VN', 'XK', 'ZA'], 'external_urls': {'spotify': 'https://open.spotify.com/album/2OBSz5Nlto0Q5CtYPzPY7c'}, 'href': 'https://api.spotify.com/v1/albums/2OBSz5Nlto0Q5CtYPzPY7c', 'id': '2OBSz5Nlto0Q5CtYPzPY7c', 'images': [{'height': 640, 'url': 'https://i.scdn.co/image/ab67616d0000b2731e0dc5baaabda304b0ad1815', 'width': 640}, {'height': 300, 'url': 'https://i.scdn.co/image/ab67616d00001e021e0dc5baaabda304b0ad1815', 'width': 300}, {'height': 64, 'url': 'https://i.scdn.co/image/ab67616d000048511e0dc5baaabda304b0ad1815', 'width': 64}], 'name': 'Weezer (Green Album)', 'release_date': '2001-05-15', 'release_date_precision': 'day', 'total_tracks': 10, 'type': 'album', 'uri': 'spotify:album:2OBSz5Nlto0Q5CtYPzPY7c'}, 'artists': [{'external_urls': {'spotify': 'https://open.spotify.com/artist/3jOstUTkEu2JkjvRdBA5Gu'}, 'href': 'https://api.spotify.com/v1/artists/3jOstUTkEu2JkjvRdBA5Gu', 'id': '3jOstUTkEu2JkjvRdBA5Gu', 'name': 'Weezer', 'type': 'artist', 'uri': 'spotify:artist:3jOstUTkEu2JkjvRdBA5Gu'}], 'available_markets': ['AD', 'AE', 'AL', 'AR', 'AT', 'AU', 'BA', 'BE', 'BG', 'BH', 'BO', 'BR', 'BY', 'CA', 'CH', 'CL', 'CO', 'CR', 'CY', 'CZ', 'DE', 'DK', 'DO', 'DZ', 'EC', 'EE', 'EG', 'ES', 'FI', 'FR', 'GR', 'GT', 'HK', 'HN', 'HR', 'HU', 'ID', 'IL', 'IN', 'IS', 'IT', 'JO', 'JP', 'KW', 'KZ', 'LB', 'LI', 'LT', 'LU', 'LV', 'MA', 'MC', 'MD', 'ME', 'MK', 'MT', 'MX', 'MY', 'NI', 'NL', 'NO', 'NZ', 'OM', 'PA', 'PE', 'PH', 'PL', 'PS', 'PT', 'PY', 'QA', 'RO', 'RS', 'RU', 'SA', 'SE', 'SG', 'SI', 'SK', 'SV', 'TH', 'TN', 'TR', 'TW', 'UA', 'US', 'UY', 'VN', 'XK', 'ZA'], 'disc_number': 1, 'duration_ms': 200306, 'explicit': False, 'external_ids': {'isrc': 'USIR10110358'}, 'external_urls': {'spotify': 'https://open.spotify.com/track/2MLHyLy5z5l5YRp7momlgw'}, 'href': 'https://api.spotify.com/v1/tracks/2MLHyLy5z5l5YRp7momlgw', 'id': '2MLHyLy5z5l5YRp7momlgw', 'is_local': False, 'name': 'Island In The Sun', 'popularity': 78, 'preview_url': None, 'track_number': 4, 'type': 'track', 'uri': 'spotify:track:2MLHyLy5z5l5YRp7momlgw'}\n",
      "2 Buddy Holly\n",
      "{'album': {'album_type': 'album', 'artists': [{'external_urls': {'spotify': 'https://open.spotify.com/artist/3jOstUTkEu2JkjvRdBA5Gu'}, 'href': 'https://api.spotify.com/v1/artists/3jOstUTkEu2JkjvRdBA5Gu', 'id': '3jOstUTkEu2JkjvRdBA5Gu', 'name': 'Weezer', 'type': 'artist', 'uri': 'spotify:artist:3jOstUTkEu2JkjvRdBA5Gu'}], 'available_markets': ['AD', 'AE', 'AL', 'AR', 'AT', 'AU', 'BA', 'BE', 'BG', 'BH', 'BO', 'BR', 'BY', 'CA', 'CH', 'CL', 'CO', 'CR', 'CY', 'CZ', 'DE', 'DK', 'DO', 'DZ', 'EC', 'EE', 'EG', 'ES', 'FI', 'FR', 'GB', 'GR', 'GT', 'HK', 'HN', 'HR', 'HU', 'ID', 'IE', 'IL', 'IN', 'IS', 'IT', 'JO', 'JP', 'KW', 'KZ', 'LB', 'LI', 'LT', 'LU', 'LV', 'MA', 'MC', 'MD', 'ME', 'MK', 'MT', 'MX', 'MY', 'NI', 'NL', 'NO', 'NZ', 'OM', 'PA', 'PE', 'PH', 'PL', 'PS', 'PT', 'PY', 'QA', 'RO', 'RS', 'RU', 'SA', 'SE', 'SG', 'SI', 'SK', 'SV', 'TH', 'TN', 'TR', 'TW', 'UA', 'US', 'UY', 'VN', 'XK', 'ZA'], 'external_urls': {'spotify': 'https://open.spotify.com/album/1xpGyKyV26uPstk1Elgp9Q'}, 'href': 'https://api.spotify.com/v1/albums/1xpGyKyV26uPstk1Elgp9Q', 'id': '1xpGyKyV26uPstk1Elgp9Q', 'images': [{'height': 640, 'url': 'https://i.scdn.co/image/ab67616d0000b273345536847e60f622ee0eae96', 'width': 640}, {'height': 300, 'url': 'https://i.scdn.co/image/ab67616d00001e02345536847e60f622ee0eae96', 'width': 300}, {'height': 64, 'url': 'https://i.scdn.co/image/ab67616d00004851345536847e60f622ee0eae96', 'width': 64}], 'name': 'Weezer', 'release_date': '1994-05-10', 'release_date_precision': 'day', 'total_tracks': 10, 'type': 'album', 'uri': 'spotify:album:1xpGyKyV26uPstk1Elgp9Q'}, 'artists': [{'external_urls': {'spotify': 'https://open.spotify.com/artist/3jOstUTkEu2JkjvRdBA5Gu'}, 'href': 'https://api.spotify.com/v1/artists/3jOstUTkEu2JkjvRdBA5Gu', 'id': '3jOstUTkEu2JkjvRdBA5Gu', 'name': 'Weezer', 'type': 'artist', 'uri': 'spotify:artist:3jOstUTkEu2JkjvRdBA5Gu'}], 'available_markets': ['AD', 'AE', 'AL', 'AR', 'AT', 'AU', 'BA', 'BE', 'BG', 'BH', 'BO', 'BR', 'BY', 'CA', 'CH', 'CL', 'CO', 'CR', 'CY', 'CZ', 'DE', 'DK', 'DO', 'DZ', 'EC', 'EE', 'EG', 'ES', 'FI', 'FR', 'GB', 'GR', 'GT', 'HK', 'HN', 'HR', 'HU', 'ID', 'IE', 'IL', 'IN', 'IS', 'IT', 'JO', 'JP', 'KW', 'KZ', 'LB', 'LI', 'LT', 'LU', 'LV', 'MA', 'MC', 'MD', 'ME', 'MK', 'MT', 'MX', 'MY', 'NI', 'NL', 'NO', 'NZ', 'OM', 'PA', 'PE', 'PH', 'PL', 'PS', 'PT', 'PY', 'QA', 'RO', 'RS', 'RU', 'SA', 'SE', 'SG', 'SI', 'SK', 'SV', 'TH', 'TN', 'TR', 'TW', 'UA', 'US', 'UY', 'VN', 'XK', 'ZA'], 'disc_number': 1, 'duration_ms': 159226, 'explicit': False, 'external_ids': {'isrc': 'USGF19562907'}, 'external_urls': {'spotify': 'https://open.spotify.com/track/3mwvKOyMmG77zZRunnxp9E'}, 'href': 'https://api.spotify.com/v1/tracks/3mwvKOyMmG77zZRunnxp9E', 'id': '3mwvKOyMmG77zZRunnxp9E', 'is_local': False, 'name': 'Buddy Holly', 'popularity': 74, 'preview_url': None, 'track_number': 4, 'type': 'track', 'uri': 'spotify:track:3mwvKOyMmG77zZRunnxp9E'}\n",
      "3 Beverly Hills\n",
      "{'album': {'album_type': 'album', 'artists': [{'external_urls': {'spotify': 'https://open.spotify.com/artist/3jOstUTkEu2JkjvRdBA5Gu'}, 'href': 'https://api.spotify.com/v1/artists/3jOstUTkEu2JkjvRdBA5Gu', 'id': '3jOstUTkEu2JkjvRdBA5Gu', 'name': 'Weezer', 'type': 'artist', 'uri': 'spotify:artist:3jOstUTkEu2JkjvRdBA5Gu'}], 'available_markets': ['AD', 'AE', 'AL', 'AR', 'AT', 'AU', 'BA', 'BE', 'BG', 'BH', 'BO', 'BR', 'BY', 'CA', 'CH', 'CL', 'CO', 'CR', 'CY', 'CZ', 'DE', 'DK', 'DO', 'DZ', 'EC', 'EE', 'EG', 'ES', 'FI', 'FR', 'GB', 'GR', 'GT', 'HK', 'HN', 'HR', 'HU', 'ID', 'IE', 'IL', 'IN', 'IS', 'IT', 'JO', 'JP', 'KW', 'KZ', 'LB', 'LI', 'LT', 'LU', 'LV', 'MA', 'MC', 'MD', 'ME', 'MK', 'MT', 'MX', 'MY', 'NI', 'NL', 'NO', 'NZ', 'OM', 'PA', 'PE', 'PH', 'PL', 'PS', 'PT', 'PY', 'QA', 'RO', 'RS', 'RU', 'SA', 'SE', 'SG', 'SI', 'SK', 'SV', 'TH', 'TN', 'TR', 'TW', 'UA', 'US', 'UY', 'VN', 'XK', 'ZA'], 'external_urls': {'spotify': 'https://open.spotify.com/album/4D8A8M0NJjEdQhusawyeDz'}, 'href': 'https://api.spotify.com/v1/albums/4D8A8M0NJjEdQhusawyeDz', 'id': '4D8A8M0NJjEdQhusawyeDz', 'images': [{'height': 640, 'url': 'https://i.scdn.co/image/ab67616d0000b273a9def696688b8353ad8511ad', 'width': 640}, {'height': 300, 'url': 'https://i.scdn.co/image/ab67616d00001e02a9def696688b8353ad8511ad', 'width': 300}, {'height': 64, 'url': 'https://i.scdn.co/image/ab67616d00004851a9def696688b8353ad8511ad', 'width': 64}], 'name': 'Make Believe', 'release_date': '2005-05-10', 'release_date_precision': 'day', 'total_tracks': 12, 'type': 'album', 'uri': 'spotify:album:4D8A8M0NJjEdQhusawyeDz'}, 'artists': [{'external_urls': {'spotify': 'https://open.spotify.com/artist/3jOstUTkEu2JkjvRdBA5Gu'}, 'href': 'https://api.spotify.com/v1/artists/3jOstUTkEu2JkjvRdBA5Gu', 'id': '3jOstUTkEu2JkjvRdBA5Gu', 'name': 'Weezer', 'type': 'artist', 'uri': 'spotify:artist:3jOstUTkEu2JkjvRdBA5Gu'}], 'available_markets': ['AD', 'AE', 'AL', 'AR', 'AT', 'AU', 'BA', 'BE', 'BG', 'BH', 'BO', 'BR', 'BY', 'CA', 'CH', 'CL', 'CO', 'CR', 'CY', 'CZ', 'DE', 'DK', 'DO', 'DZ', 'EC', 'EE', 'EG', 'ES', 'FI', 'FR', 'GB', 'GR', 'GT', 'HK', 'HN', 'HR', 'HU', 'ID', 'IE', 'IL', 'IN', 'IS', 'IT', 'JO', 'JP', 'KW', 'KZ', 'LB', 'LI', 'LT', 'LU', 'LV', 'MA', 'MC', 'MD', 'ME', 'MK', 'MT', 'MX', 'MY', 'NI', 'NL', 'NO', 'NZ', 'OM', 'PA', 'PE', 'PH', 'PL', 'PS', 'PT', 'PY', 'QA', 'RO', 'RS', 'RU', 'SA', 'SE', 'SG', 'SI', 'SK', 'SV', 'TH', 'TN', 'TR', 'TW', 'UA', 'US', 'UY', 'VN', 'XK', 'ZA'], 'disc_number': 1, 'duration_ms': 196093, 'explicit': False, 'external_ids': {'isrc': 'USIR10500448'}, 'external_urls': {'spotify': 'https://open.spotify.com/track/1yKu2MhpwzDXXH2tzG6xoa'}, 'href': 'https://api.spotify.com/v1/tracks/1yKu2MhpwzDXXH2tzG6xoa', 'id': '1yKu2MhpwzDXXH2tzG6xoa', 'is_local': False, 'name': 'Beverly Hills', 'popularity': 72, 'preview_url': None, 'track_number': 1, 'type': 'track', 'uri': 'spotify:track:1yKu2MhpwzDXXH2tzG6xoa'}\n",
      "4 Undone - The Sweater Song\n",
      "{'album': {'album_type': 'album', 'artists': [{'external_urls': {'spotify': 'https://open.spotify.com/artist/3jOstUTkEu2JkjvRdBA5Gu'}, 'href': 'https://api.spotify.com/v1/artists/3jOstUTkEu2JkjvRdBA5Gu', 'id': '3jOstUTkEu2JkjvRdBA5Gu', 'name': 'Weezer', 'type': 'artist', 'uri': 'spotify:artist:3jOstUTkEu2JkjvRdBA5Gu'}], 'available_markets': ['AD', 'AE', 'AL', 'AR', 'AT', 'AU', 'BA', 'BE', 'BG', 'BH', 'BO', 'BR', 'BY', 'CA', 'CH', 'CL', 'CO', 'CR', 'CY', 'CZ', 'DE', 'DK', 'DO', 'DZ', 'EC', 'EE', 'EG', 'ES', 'FI', 'FR', 'GB', 'GR', 'GT', 'HK', 'HN', 'HR', 'HU', 'ID', 'IE', 'IL', 'IN', 'IS', 'IT', 'JO', 'JP', 'KW', 'KZ', 'LB', 'LI', 'LT', 'LU', 'LV', 'MA', 'MC', 'MD', 'ME', 'MK', 'MT', 'MX', 'MY', 'NI', 'NL', 'NO', 'NZ', 'OM', 'PA', 'PE', 'PH', 'PL', 'PS', 'PT', 'PY', 'QA', 'RO', 'RS', 'RU', 'SA', 'SE', 'SG', 'SI', 'SK', 'SV', 'TH', 'TN', 'TR', 'TW', 'UA', 'US', 'UY', 'VN', 'XK', 'ZA'], 'external_urls': {'spotify': 'https://open.spotify.com/album/1xpGyKyV26uPstk1Elgp9Q'}, 'href': 'https://api.spotify.com/v1/albums/1xpGyKyV26uPstk1Elgp9Q', 'id': '1xpGyKyV26uPstk1Elgp9Q', 'images': [{'height': 640, 'url': 'https://i.scdn.co/image/ab67616d0000b273345536847e60f622ee0eae96', 'width': 640}, {'height': 300, 'url': 'https://i.scdn.co/image/ab67616d00001e02345536847e60f622ee0eae96', 'width': 300}, {'height': 64, 'url': 'https://i.scdn.co/image/ab67616d00004851345536847e60f622ee0eae96', 'width': 64}], 'name': 'Weezer', 'release_date': '1994-05-10', 'release_date_precision': 'day', 'total_tracks': 10, 'type': 'album', 'uri': 'spotify:album:1xpGyKyV26uPstk1Elgp9Q'}, 'artists': [{'external_urls': {'spotify': 'https://open.spotify.com/artist/3jOstUTkEu2JkjvRdBA5Gu'}, 'href': 'https://api.spotify.com/v1/artists/3jOstUTkEu2JkjvRdBA5Gu', 'id': '3jOstUTkEu2JkjvRdBA5Gu', 'name': 'Weezer', 'type': 'artist', 'uri': 'spotify:artist:3jOstUTkEu2JkjvRdBA5Gu'}], 'available_markets': ['AD', 'AE', 'AL', 'AR', 'AT', 'AU', 'BA', 'BE', 'BG', 'BH', 'BO', 'BR', 'BY', 'CA', 'CH', 'CL', 'CO', 'CR', 'CY', 'CZ', 'DE', 'DK', 'DO', 'DZ', 'EC', 'EE', 'EG', 'ES', 'FI', 'FR', 'GB', 'GR', 'GT', 'HK', 'HN', 'HR', 'HU', 'ID', 'IE', 'IL', 'IN', 'IS', 'IT', 'JO', 'JP', 'KW', 'KZ', 'LB', 'LI', 'LT', 'LU', 'LV', 'MA', 'MC', 'MD', 'ME', 'MK', 'MT', 'MX', 'MY', 'NI', 'NL', 'NO', 'NZ', 'OM', 'PA', 'PE', 'PH', 'PL', 'PS', 'PT', 'PY', 'QA', 'RO', 'RS', 'RU', 'SA', 'SE', 'SG', 'SI', 'SK', 'SV', 'TH', 'TN', 'TR', 'TW', 'UA', 'US', 'UY', 'VN', 'XK', 'ZA'], 'disc_number': 1, 'duration_ms': 305533, 'explicit': False, 'external_ids': {'isrc': 'USGF19962905'}, 'external_urls': {'spotify': 'https://open.spotify.com/track/5WhtlIoxoZrMmuaWWEQhwV'}, 'href': 'https://api.spotify.com/v1/tracks/5WhtlIoxoZrMmuaWWEQhwV', 'id': '5WhtlIoxoZrMmuaWWEQhwV', 'is_local': False, 'name': 'Undone - The Sweater Song', 'popularity': 66, 'preview_url': None, 'track_number': 5, 'type': 'track', 'uri': 'spotify:track:5WhtlIoxoZrMmuaWWEQhwV'}\n",
      "5 Lost in the Woods - Weezer Version\n",
      "{'album': {'album_type': 'album', 'artists': [{'external_urls': {'spotify': 'https://open.spotify.com/artist/0LyfQWJT6nXafLPZqxe9Of'}, 'href': 'https://api.spotify.com/v1/artists/0LyfQWJT6nXafLPZqxe9Of', 'id': '0LyfQWJT6nXafLPZqxe9Of', 'name': 'Various Artists', 'type': 'artist', 'uri': 'spotify:artist:0LyfQWJT6nXafLPZqxe9Of'}], 'available_markets': ['AD', 'AE', 'AL', 'AR', 'AT', 'AU', 'BA', 'BE', 'BG', 'BH', 'BO', 'BR', 'BY', 'CA', 'CH', 'CL', 'CO', 'CR', 'CY', 'CZ', 'DE', 'DK', 'DO', 'DZ', 'EC', 'EE', 'EG', 'ES', 'FI', 'FR', 'GB', 'GR', 'GT', 'HK', 'HN', 'HR', 'HU', 'ID', 'IE', 'IL', 'IN', 'IS', 'IT', 'JO', 'JP', 'KW', 'KZ', 'LB', 'LI', 'LT', 'LU', 'LV', 'MA', 'MC', 'MD', 'ME', 'MK', 'MT', 'MX', 'MY', 'NI', 'NL', 'NO', 'NZ', 'OM', 'PA', 'PE', 'PH', 'PL', 'PS', 'PT', 'PY', 'QA', 'RO', 'RS', 'RU', 'SA', 'SE', 'SG', 'SI', 'SK', 'SV', 'TH', 'TN', 'TR', 'TW', 'UA', 'US', 'UY', 'VN', 'XK', 'ZA'], 'external_urls': {'spotify': 'https://open.spotify.com/album/4M07HWIlZr7zoXoxDHR5mz'}, 'href': 'https://api.spotify.com/v1/albums/4M07HWIlZr7zoXoxDHR5mz', 'id': '4M07HWIlZr7zoXoxDHR5mz', 'images': [{'height': 640, 'url': 'https://i.scdn.co/image/ab67616d0000b2736ff59d18c018a2845758deed', 'width': 640}, {'height': 300, 'url': 'https://i.scdn.co/image/ab67616d00001e026ff59d18c018a2845758deed', 'width': 300}, {'height': 64, 'url': 'https://i.scdn.co/image/ab67616d000048516ff59d18c018a2845758deed', 'width': 64}], 'name': 'Frozen 2 (Original Motion Picture Soundtrack/Deluxe Edition)', 'release_date': '2019-11-15', 'release_date_precision': 'day', 'total_tracks': 46, 'type': 'album', 'uri': 'spotify:album:4M07HWIlZr7zoXoxDHR5mz'}, 'artists': [{'external_urls': {'spotify': 'https://open.spotify.com/artist/3jOstUTkEu2JkjvRdBA5Gu'}, 'href': 'https://api.spotify.com/v1/artists/3jOstUTkEu2JkjvRdBA5Gu', 'id': '3jOstUTkEu2JkjvRdBA5Gu', 'name': 'Weezer', 'type': 'artist', 'uri': 'spotify:artist:3jOstUTkEu2JkjvRdBA5Gu'}], 'available_markets': ['AD', 'AE', 'AL', 'AR', 'AT', 'AU', 'BA', 'BE', 'BG', 'BH', 'BO', 'BR', 'BY', 'CA', 'CH', 'CL', 'CO', 'CR', 'CY', 'CZ', 'DE', 'DK', 'DO', 'DZ', 'EC', 'EE', 'EG', 'ES', 'FI', 'FR', 'GB', 'GR', 'GT', 'HK', 'HN', 'HR', 'HU', 'ID', 'IE', 'IL', 'IN', 'IS', 'IT', 'JO', 'JP', 'KW', 'KZ', 'LB', 'LI', 'LT', 'LU', 'LV', 'MA', 'MC', 'MD', 'ME', 'MK', 'MT', 'MX', 'MY', 'NI', 'NL', 'NO', 'NZ', 'OM', 'PA', 'PE', 'PH', 'PL', 'PS', 'PT', 'PY', 'QA', 'RO', 'RS', 'RU', 'SA', 'SE', 'SG', 'SI', 'SK', 'SV', 'TH', 'TN', 'TR', 'TW', 'UA', 'US', 'UY', 'VN', 'XK', 'ZA'], 'disc_number': 1, 'duration_ms': 185231, 'explicit': False, 'external_ids': {'isrc': 'USWD11994802'}, 'external_urls': {'spotify': 'https://open.spotify.com/track/227zkOoNpqRrzEPxvVRiF5'}, 'href': 'https://api.spotify.com/v1/tracks/227zkOoNpqRrzEPxvVRiF5', 'id': '227zkOoNpqRrzEPxvVRiF5', 'is_local': False, 'name': 'Lost in the Woods - Weezer Version', 'popularity': 65, 'preview_url': None, 'track_number': 11, 'type': 'track', 'uri': 'spotify:track:227zkOoNpqRrzEPxvVRiF5'}\n",
      "6 Hash Pipe\n",
      "{'album': {'album_type': 'album', 'artists': [{'external_urls': {'spotify': 'https://open.spotify.com/artist/3jOstUTkEu2JkjvRdBA5Gu'}, 'href': 'https://api.spotify.com/v1/artists/3jOstUTkEu2JkjvRdBA5Gu', 'id': '3jOstUTkEu2JkjvRdBA5Gu', 'name': 'Weezer', 'type': 'artist', 'uri': 'spotify:artist:3jOstUTkEu2JkjvRdBA5Gu'}], 'available_markets': ['AD', 'AE', 'AL', 'AR', 'AT', 'AU', 'BA', 'BE', 'BG', 'BH', 'BO', 'BR', 'BY', 'CA', 'CH', 'CL', 'CO', 'CR', 'CY', 'CZ', 'DE', 'DK', 'DO', 'DZ', 'EC', 'EE', 'EG', 'ES', 'FI', 'FR', 'GR', 'GT', 'HK', 'HN', 'HR', 'HU', 'ID', 'IL', 'IN', 'IS', 'IT', 'JO', 'JP', 'KW', 'KZ', 'LB', 'LI', 'LT', 'LU', 'LV', 'MA', 'MC', 'MD', 'ME', 'MK', 'MT', 'MX', 'MY', 'NI', 'NL', 'NO', 'NZ', 'OM', 'PA', 'PE', 'PH', 'PL', 'PS', 'PT', 'PY', 'QA', 'RO', 'RS', 'RU', 'SA', 'SE', 'SG', 'SI', 'SK', 'SV', 'TH', 'TN', 'TR', 'TW', 'UA', 'US', 'UY', 'VN', 'XK', 'ZA'], 'external_urls': {'spotify': 'https://open.spotify.com/album/2OBSz5Nlto0Q5CtYPzPY7c'}, 'href': 'https://api.spotify.com/v1/albums/2OBSz5Nlto0Q5CtYPzPY7c', 'id': '2OBSz5Nlto0Q5CtYPzPY7c', 'images': [{'height': 640, 'url': 'https://i.scdn.co/image/ab67616d0000b2731e0dc5baaabda304b0ad1815', 'width': 640}, {'height': 300, 'url': 'https://i.scdn.co/image/ab67616d00001e021e0dc5baaabda304b0ad1815', 'width': 300}, {'height': 64, 'url': 'https://i.scdn.co/image/ab67616d000048511e0dc5baaabda304b0ad1815', 'width': 64}], 'name': 'Weezer (Green Album)', 'release_date': '2001-05-15', 'release_date_precision': 'day', 'total_tracks': 10, 'type': 'album', 'uri': 'spotify:album:2OBSz5Nlto0Q5CtYPzPY7c'}, 'artists': [{'external_urls': {'spotify': 'https://open.spotify.com/artist/3jOstUTkEu2JkjvRdBA5Gu'}, 'href': 'https://api.spotify.com/v1/artists/3jOstUTkEu2JkjvRdBA5Gu', 'id': '3jOstUTkEu2JkjvRdBA5Gu', 'name': 'Weezer', 'type': 'artist', 'uri': 'spotify:artist:3jOstUTkEu2JkjvRdBA5Gu'}], 'available_markets': ['AD', 'AE', 'AL', 'AR', 'AT', 'AU', 'BA', 'BE', 'BG', 'BH', 'BO', 'BR', 'BY', 'CA', 'CH', 'CL', 'CO', 'CR', 'CY', 'CZ', 'DE', 'DK', 'DO', 'DZ', 'EC', 'EE', 'EG', 'ES', 'FI', 'FR', 'GR', 'GT', 'HK', 'HN', 'HR', 'HU', 'ID', 'IL', 'IN', 'IS', 'IT', 'JO', 'JP', 'KW', 'KZ', 'LB', 'LI', 'LT', 'LU', 'LV', 'MA', 'MC', 'MD', 'ME', 'MK', 'MT', 'MX', 'MY', 'NI', 'NL', 'NO', 'NZ', 'OM', 'PA', 'PE', 'PH', 'PL', 'PS', 'PT', 'PY', 'QA', 'RO', 'RS', 'RU', 'SA', 'SE', 'SG', 'SI', 'SK', 'SV', 'TH', 'TN', 'TR', 'TW', 'UA', 'US', 'UY', 'VN', 'XK', 'ZA'], 'disc_number': 1, 'duration_ms': 186533, 'explicit': False, 'external_ids': {'isrc': 'USIR10110319'}, 'external_urls': {'spotify': 'https://open.spotify.com/track/2mPMFJvQ0v27gVqe5b6nDn'}, 'href': 'https://api.spotify.com/v1/tracks/2mPMFJvQ0v27gVqe5b6nDn', 'id': '2mPMFJvQ0v27gVqe5b6nDn', 'is_local': False, 'name': 'Hash Pipe', 'popularity': 68, 'preview_url': None, 'track_number': 3, 'type': 'track', 'uri': 'spotify:track:2mPMFJvQ0v27gVqe5b6nDn'}\n",
      "7 Africa\n",
      "{'album': {'album_type': 'album', 'artists': [{'external_urls': {'spotify': 'https://open.spotify.com/artist/3jOstUTkEu2JkjvRdBA5Gu'}, 'href': 'https://api.spotify.com/v1/artists/3jOstUTkEu2JkjvRdBA5Gu', 'id': '3jOstUTkEu2JkjvRdBA5Gu', 'name': 'Weezer', 'type': 'artist', 'uri': 'spotify:artist:3jOstUTkEu2JkjvRdBA5Gu'}], 'available_markets': ['AD', 'AE', 'AL', 'AR', 'AT', 'AU', 'BA', 'BE', 'BG', 'BH', 'BO', 'BR', 'BY', 'CA', 'CH', 'CL', 'CO', 'CR', 'CY', 'CZ', 'DE', 'DK', 'DO', 'DZ', 'EC', 'EE', 'EG', 'ES', 'FI', 'FR', 'GB', 'GR', 'GT', 'HK', 'HN', 'HR', 'HU', 'ID', 'IE', 'IL', 'IN', 'IS', 'IT', 'JO', 'JP', 'KW', 'KZ', 'LB', 'LI', 'LT', 'LU', 'LV', 'MA', 'MC', 'MD', 'ME', 'MK', 'MT', 'MX', 'MY', 'NI', 'NL', 'NO', 'NZ', 'OM', 'PA', 'PE', 'PH', 'PL', 'PS', 'PT', 'PY', 'QA', 'RO', 'RS', 'RU', 'SA', 'SE', 'SG', 'SI', 'SK', 'SV', 'TH', 'TN', 'TR', 'TW', 'UA', 'US', 'UY', 'VN', 'XK', 'ZA'], 'external_urls': {'spotify': 'https://open.spotify.com/album/65sHj9PvsbyD0uugGHjueN'}, 'href': 'https://api.spotify.com/v1/albums/65sHj9PvsbyD0uugGHjueN', 'id': '65sHj9PvsbyD0uugGHjueN', 'images': [{'height': 640, 'url': 'https://i.scdn.co/image/ab67616d0000b27323473d8f0c8669583307532e', 'width': 640}, {'height': 300, 'url': 'https://i.scdn.co/image/ab67616d00001e0223473d8f0c8669583307532e', 'width': 300}, {'height': 64, 'url': 'https://i.scdn.co/image/ab67616d0000485123473d8f0c8669583307532e', 'width': 64}], 'name': 'Weezer (Teal Album)', 'release_date': '2019-01-24', 'release_date_precision': 'day', 'total_tracks': 10, 'type': 'album', 'uri': 'spotify:album:65sHj9PvsbyD0uugGHjueN'}, 'artists': [{'external_urls': {'spotify': 'https://open.spotify.com/artist/3jOstUTkEu2JkjvRdBA5Gu'}, 'href': 'https://api.spotify.com/v1/artists/3jOstUTkEu2JkjvRdBA5Gu', 'id': '3jOstUTkEu2JkjvRdBA5Gu', 'name': 'Weezer', 'type': 'artist', 'uri': 'spotify:artist:3jOstUTkEu2JkjvRdBA5Gu'}], 'available_markets': ['AD', 'AE', 'AL', 'AR', 'AT', 'AU', 'BA', 'BE', 'BG', 'BH', 'BO', 'BR', 'BY', 'CA', 'CH', 'CL', 'CO', 'CR', 'CY', 'CZ', 'DE', 'DK', 'DO', 'DZ', 'EC', 'EE', 'EG', 'ES', 'FI', 'FR', 'GB', 'GR', 'GT', 'HK', 'HN', 'HR', 'HU', 'ID', 'IE', 'IL', 'IN', 'IS', 'IT', 'JO', 'JP', 'KW', 'KZ', 'LB', 'LI', 'LT', 'LU', 'LV', 'MA', 'MC', 'MD', 'ME', 'MK', 'MT', 'MX', 'MY', 'NI', 'NL', 'NO', 'NZ', 'OM', 'PA', 'PE', 'PH', 'PL', 'PS', 'PT', 'PY', 'QA', 'RO', 'RS', 'RU', 'SA', 'SE', 'SG', 'SI', 'SK', 'SV', 'TH', 'TN', 'TR', 'TW', 'UA', 'US', 'UY', 'VN', 'XK', 'ZA'], 'disc_number': 1, 'duration_ms': 238626, 'explicit': False, 'external_ids': {'isrc': 'USAT21802455'}, 'external_urls': {'spotify': 'https://open.spotify.com/track/3ZPKocroJIcnHGcnJVlLKD'}, 'href': 'https://api.spotify.com/v1/tracks/3ZPKocroJIcnHGcnJVlLKD', 'id': '3ZPKocroJIcnHGcnJVlLKD', 'is_local': False, 'name': 'Africa', 'popularity': 63, 'preview_url': 'https://p.scdn.co/mp3-preview/fd50e613eafb6f28e2f98da86e2667c4cd0bc167?cid=e014b57873a64cf6bcae2e75f096f0d7', 'track_number': 1, 'type': 'track', 'uri': 'spotify:track:3ZPKocroJIcnHGcnJVlLKD'}\n",
      "8 My Name Is Jonas\n",
      "{'album': {'album_type': 'album', 'artists': [{'external_urls': {'spotify': 'https://open.spotify.com/artist/3jOstUTkEu2JkjvRdBA5Gu'}, 'href': 'https://api.spotify.com/v1/artists/3jOstUTkEu2JkjvRdBA5Gu', 'id': '3jOstUTkEu2JkjvRdBA5Gu', 'name': 'Weezer', 'type': 'artist', 'uri': 'spotify:artist:3jOstUTkEu2JkjvRdBA5Gu'}], 'available_markets': ['AD', 'AE', 'AL', 'AR', 'AT', 'AU', 'BA', 'BE', 'BG', 'BH', 'BO', 'BR', 'BY', 'CA', 'CH', 'CL', 'CO', 'CR', 'CY', 'CZ', 'DE', 'DK', 'DO', 'DZ', 'EC', 'EE', 'EG', 'ES', 'FI', 'FR', 'GB', 'GR', 'GT', 'HK', 'HN', 'HR', 'HU', 'ID', 'IE', 'IL', 'IN', 'IS', 'IT', 'JO', 'JP', 'KW', 'KZ', 'LB', 'LI', 'LT', 'LU', 'LV', 'MA', 'MC', 'MD', 'ME', 'MK', 'MT', 'MX', 'MY', 'NI', 'NL', 'NO', 'NZ', 'OM', 'PA', 'PE', 'PH', 'PL', 'PS', 'PT', 'PY', 'QA', 'RO', 'RS', 'RU', 'SA', 'SE', 'SG', 'SI', 'SK', 'SV', 'TH', 'TN', 'TR', 'TW', 'UA', 'US', 'UY', 'VN', 'XK', 'ZA'], 'external_urls': {'spotify': 'https://open.spotify.com/album/1xpGyKyV26uPstk1Elgp9Q'}, 'href': 'https://api.spotify.com/v1/albums/1xpGyKyV26uPstk1Elgp9Q', 'id': '1xpGyKyV26uPstk1Elgp9Q', 'images': [{'height': 640, 'url': 'https://i.scdn.co/image/ab67616d0000b273345536847e60f622ee0eae96', 'width': 640}, {'height': 300, 'url': 'https://i.scdn.co/image/ab67616d00001e02345536847e60f622ee0eae96', 'width': 300}, {'height': 64, 'url': 'https://i.scdn.co/image/ab67616d00004851345536847e60f622ee0eae96', 'width': 64}], 'name': 'Weezer', 'release_date': '1994-05-10', 'release_date_precision': 'day', 'total_tracks': 10, 'type': 'album', 'uri': 'spotify:album:1xpGyKyV26uPstk1Elgp9Q'}, 'artists': [{'external_urls': {'spotify': 'https://open.spotify.com/artist/3jOstUTkEu2JkjvRdBA5Gu'}, 'href': 'https://api.spotify.com/v1/artists/3jOstUTkEu2JkjvRdBA5Gu', 'id': '3jOstUTkEu2JkjvRdBA5Gu', 'name': 'Weezer', 'type': 'artist', 'uri': 'spotify:artist:3jOstUTkEu2JkjvRdBA5Gu'}], 'available_markets': ['AD', 'AE', 'AL', 'AR', 'AT', 'AU', 'BA', 'BE', 'BG', 'BH', 'BO', 'BR', 'BY', 'CA', 'CH', 'CL', 'CO', 'CR', 'CY', 'CZ', 'DE', 'DK', 'DO', 'DZ', 'EC', 'EE', 'EG', 'ES', 'FI', 'FR', 'GB', 'GR', 'GT', 'HK', 'HN', 'HR', 'HU', 'ID', 'IE', 'IL', 'IN', 'IS', 'IT', 'JO', 'JP', 'KW', 'KZ', 'LB', 'LI', 'LT', 'LU', 'LV', 'MA', 'MC', 'MD', 'ME', 'MK', 'MT', 'MX', 'MY', 'NI', 'NL', 'NO', 'NZ', 'OM', 'PA', 'PE', 'PH', 'PL', 'PS', 'PT', 'PY', 'QA', 'RO', 'RS', 'RU', 'SA', 'SE', 'SG', 'SI', 'SK', 'SV', 'TH', 'TN', 'TR', 'TW', 'UA', 'US', 'UY', 'VN', 'XK', 'ZA'], 'disc_number': 1, 'duration_ms': 204293, 'explicit': False, 'external_ids': {'isrc': 'USGF19962901'}, 'external_urls': {'spotify': 'https://open.spotify.com/track/4nzyOwogJuWn1s6QuGFZ6w'}, 'href': 'https://api.spotify.com/v1/tracks/4nzyOwogJuWn1s6QuGFZ6w', 'id': '4nzyOwogJuWn1s6QuGFZ6w', 'is_local': False, 'name': 'My Name Is Jonas', 'popularity': 62, 'preview_url': None, 'track_number': 1, 'type': 'track', 'uri': 'spotify:track:4nzyOwogJuWn1s6QuGFZ6w'}\n",
      "9 Hero\n",
      "{'album': {'album_type': 'single', 'artists': [{'external_urls': {'spotify': 'https://open.spotify.com/artist/3jOstUTkEu2JkjvRdBA5Gu'}, 'href': 'https://api.spotify.com/v1/artists/3jOstUTkEu2JkjvRdBA5Gu', 'id': '3jOstUTkEu2JkjvRdBA5Gu', 'name': 'Weezer', 'type': 'artist', 'uri': 'spotify:artist:3jOstUTkEu2JkjvRdBA5Gu'}], 'available_markets': ['AD', 'AE', 'AL', 'AR', 'AT', 'AU', 'BA', 'BE', 'BG', 'BH', 'BO', 'BR', 'BY', 'CA', 'CH', 'CL', 'CO', 'CR', 'CY', 'CZ', 'DE', 'DK', 'DO', 'DZ', 'EC', 'EE', 'EG', 'ES', 'FI', 'FR', 'GB', 'GR', 'GT', 'HK', 'HN', 'HR', 'HU', 'ID', 'IE', 'IL', 'IN', 'IS', 'IT', 'JO', 'JP', 'KW', 'KZ', 'LB', 'LI', 'LT', 'LU', 'LV', 'MA', 'MC', 'MD', 'ME', 'MK', 'MT', 'MX', 'MY', 'NI', 'NL', 'NO', 'NZ', 'OM', 'PA', 'PE', 'PH', 'PL', 'PS', 'PT', 'PY', 'QA', 'RO', 'RS', 'RU', 'SA', 'SE', 'SG', 'SI', 'SK', 'SV', 'TH', 'TN', 'TR', 'TW', 'UA', 'US', 'UY', 'VN', 'XK', 'ZA'], 'external_urls': {'spotify': 'https://open.spotify.com/album/4FrRRR86MYCjoLFV8dgnm5'}, 'href': 'https://api.spotify.com/v1/albums/4FrRRR86MYCjoLFV8dgnm5', 'id': '4FrRRR86MYCjoLFV8dgnm5', 'images': [{'height': 640, 'url': 'https://i.scdn.co/image/ab67616d0000b273a2084a3e3e439ca9dd561021', 'width': 640}, {'height': 300, 'url': 'https://i.scdn.co/image/ab67616d00001e02a2084a3e3e439ca9dd561021', 'width': 300}, {'height': 64, 'url': 'https://i.scdn.co/image/ab67616d00004851a2084a3e3e439ca9dd561021', 'width': 64}], 'name': 'Hero', 'release_date': '2020-05-06', 'release_date_precision': 'day', 'total_tracks': 2, 'type': 'album', 'uri': 'spotify:album:4FrRRR86MYCjoLFV8dgnm5'}, 'artists': [{'external_urls': {'spotify': 'https://open.spotify.com/artist/3jOstUTkEu2JkjvRdBA5Gu'}, 'href': 'https://api.spotify.com/v1/artists/3jOstUTkEu2JkjvRdBA5Gu', 'id': '3jOstUTkEu2JkjvRdBA5Gu', 'name': 'Weezer', 'type': 'artist', 'uri': 'spotify:artist:3jOstUTkEu2JkjvRdBA5Gu'}], 'available_markets': ['AD', 'AE', 'AL', 'AR', 'AT', 'AU', 'BA', 'BE', 'BG', 'BH', 'BO', 'BR', 'BY', 'CA', 'CH', 'CL', 'CO', 'CR', 'CY', 'CZ', 'DE', 'DK', 'DO', 'DZ', 'EC', 'EE', 'EG', 'ES', 'FI', 'FR', 'GB', 'GR', 'GT', 'HK', 'HN', 'HR', 'HU', 'ID', 'IE', 'IL', 'IN', 'IS', 'IT', 'JO', 'JP', 'KW', 'KZ', 'LB', 'LI', 'LT', 'LU', 'LV', 'MA', 'MC', 'MD', 'ME', 'MK', 'MT', 'MX', 'MY', 'NI', 'NL', 'NO', 'NZ', 'OM', 'PA', 'PE', 'PH', 'PL', 'PS', 'PT', 'PY', 'QA', 'RO', 'RS', 'RU', 'SA', 'SE', 'SG', 'SI', 'SK', 'SV', 'TH', 'TN', 'TR', 'TW', 'UA', 'US', 'UY', 'VN', 'XK', 'ZA'], 'disc_number': 1, 'duration_ms': 236346, 'explicit': False, 'external_ids': {'isrc': 'USAT21905202'}, 'external_urls': {'spotify': 'https://open.spotify.com/track/4Fj6KslSYYQ1kAbafiKoz0'}, 'href': 'https://api.spotify.com/v1/tracks/4Fj6KslSYYQ1kAbafiKoz0', 'id': '4Fj6KslSYYQ1kAbafiKoz0', 'is_local': False, 'name': 'Hero', 'popularity': 63, 'preview_url': 'https://p.scdn.co/mp3-preview/b80c8433159195f654287273ea1bc981ff50b539?cid=e014b57873a64cf6bcae2e75f096f0d7', 'track_number': 1, 'type': 'track', 'uri': 'spotify:track:4Fj6KslSYYQ1kAbafiKoz0'}\n",
      "10 Pork And Beans\n",
      "{'album': {'album_type': 'album', 'artists': [{'external_urls': {'spotify': 'https://open.spotify.com/artist/3jOstUTkEu2JkjvRdBA5Gu'}, 'href': 'https://api.spotify.com/v1/artists/3jOstUTkEu2JkjvRdBA5Gu', 'id': '3jOstUTkEu2JkjvRdBA5Gu', 'name': 'Weezer', 'type': 'artist', 'uri': 'spotify:artist:3jOstUTkEu2JkjvRdBA5Gu'}], 'available_markets': ['CA', 'JP', 'MX', 'US'], 'external_urls': {'spotify': 'https://open.spotify.com/album/6v8wNjiQDhDijoapXXZ9mZ'}, 'href': 'https://api.spotify.com/v1/albums/6v8wNjiQDhDijoapXXZ9mZ', 'id': '6v8wNjiQDhDijoapXXZ9mZ', 'images': [{'height': 640, 'url': 'https://i.scdn.co/image/ab67616d0000b273464da76fa0e1570e1844b622', 'width': 640}, {'height': 300, 'url': 'https://i.scdn.co/image/ab67616d00001e02464da76fa0e1570e1844b622', 'width': 300}, {'height': 64, 'url': 'https://i.scdn.co/image/ab67616d00004851464da76fa0e1570e1844b622', 'width': 64}], 'name': 'Weezer (Red Album)', 'release_date': '2008-01-01', 'release_date_precision': 'day', 'total_tracks': 14, 'type': 'album', 'uri': 'spotify:album:6v8wNjiQDhDijoapXXZ9mZ'}, 'artists': [{'external_urls': {'spotify': 'https://open.spotify.com/artist/3jOstUTkEu2JkjvRdBA5Gu'}, 'href': 'https://api.spotify.com/v1/artists/3jOstUTkEu2JkjvRdBA5Gu', 'id': '3jOstUTkEu2JkjvRdBA5Gu', 'name': 'Weezer', 'type': 'artist', 'uri': 'spotify:artist:3jOstUTkEu2JkjvRdBA5Gu'}], 'available_markets': ['CA', 'JP', 'MX', 'US'], 'disc_number': 1, 'duration_ms': 189400, 'explicit': False, 'external_ids': {'isrc': 'USUM70811232'}, 'external_urls': {'spotify': 'https://open.spotify.com/track/7wclPheMJAUKn2njmO2s3A'}, 'href': 'https://api.spotify.com/v1/tracks/7wclPheMJAUKn2njmO2s3A', 'id': '7wclPheMJAUKn2njmO2s3A', 'is_local': False, 'name': 'Pork And Beans', 'popularity': 58, 'preview_url': None, 'track_number': 3, 'type': 'track', 'uri': 'spotify:track:7wclPheMJAUKn2njmO2s3A'}\n",
      "11 Feels Like Summer\n",
      "{'album': {'album_type': 'album', 'artists': [{'external_urls': {'spotify': 'https://open.spotify.com/artist/3jOstUTkEu2JkjvRdBA5Gu'}, 'href': 'https://api.spotify.com/v1/artists/3jOstUTkEu2JkjvRdBA5Gu', 'id': '3jOstUTkEu2JkjvRdBA5Gu', 'name': 'Weezer', 'type': 'artist', 'uri': 'spotify:artist:3jOstUTkEu2JkjvRdBA5Gu'}], 'available_markets': ['AD', 'AE', 'AL', 'AR', 'AT', 'AU', 'BA', 'BE', 'BG', 'BH', 'BO', 'BR', 'BY', 'CA', 'CH', 'CL', 'CO', 'CR', 'CY', 'CZ', 'DE', 'DK', 'DO', 'DZ', 'EC', 'EE', 'EG', 'ES', 'FI', 'FR', 'GB', 'GR', 'GT', 'HK', 'HN', 'HR', 'HU', 'ID', 'IE', 'IL', 'IN', 'IS', 'IT', 'JO', 'JP', 'KW', 'KZ', 'LB', 'LI', 'LT', 'LU', 'LV', 'MA', 'MC', 'MD', 'ME', 'MK', 'MT', 'MX', 'MY', 'NI', 'NL', 'NO', 'NZ', 'OM', 'PA', 'PE', 'PH', 'PL', 'PS', 'PT', 'PY', 'QA', 'RO', 'RS', 'RU', 'SA', 'SE', 'SG', 'SI', 'SK', 'SV', 'TH', 'TN', 'TR', 'TW', 'UA', 'US', 'UY', 'VN', 'XK', 'ZA'], 'external_urls': {'spotify': 'https://open.spotify.com/album/3EwfQtjvyRAXsPWAKO5FDP'}, 'href': 'https://api.spotify.com/v1/albums/3EwfQtjvyRAXsPWAKO5FDP', 'id': '3EwfQtjvyRAXsPWAKO5FDP', 'images': [{'height': 640, 'url': 'https://i.scdn.co/image/ab67616d0000b273f04ed0e9d5af8b1b5f011b2f', 'width': 640}, {'height': 300, 'url': 'https://i.scdn.co/image/ab67616d00001e02f04ed0e9d5af8b1b5f011b2f', 'width': 300}, {'height': 64, 'url': 'https://i.scdn.co/image/ab67616d00004851f04ed0e9d5af8b1b5f011b2f', 'width': 64}], 'name': 'Pacific Daydream', 'release_date': '2017-10-27', 'release_date_precision': 'day', 'total_tracks': 10, 'type': 'album', 'uri': 'spotify:album:3EwfQtjvyRAXsPWAKO5FDP'}, 'artists': [{'external_urls': {'spotify': 'https://open.spotify.com/artist/3jOstUTkEu2JkjvRdBA5Gu'}, 'href': 'https://api.spotify.com/v1/artists/3jOstUTkEu2JkjvRdBA5Gu', 'id': '3jOstUTkEu2JkjvRdBA5Gu', 'name': 'Weezer', 'type': 'artist', 'uri': 'spotify:artist:3jOstUTkEu2JkjvRdBA5Gu'}], 'available_markets': ['AD', 'AE', 'AL', 'AR', 'AT', 'AU', 'BA', 'BE', 'BG', 'BH', 'BO', 'BR', 'BY', 'CA', 'CH', 'CL', 'CO', 'CR', 'CY', 'CZ', 'DE', 'DK', 'DO', 'DZ', 'EC', 'EE', 'EG', 'ES', 'FI', 'FR', 'GB', 'GR', 'GT', 'HK', 'HN', 'HR', 'HU', 'ID', 'IE', 'IL', 'IN', 'IS', 'IT', 'JO', 'JP', 'KW', 'KZ', 'LB', 'LI', 'LT', 'LU', 'LV', 'MA', 'MC', 'MD', 'ME', 'MK', 'MT', 'MX', 'MY', 'NI', 'NL', 'NO', 'NZ', 'OM', 'PA', 'PE', 'PH', 'PL', 'PS', 'PT', 'PY', 'QA', 'RO', 'RS', 'RU', 'SA', 'SE', 'SG', 'SI', 'SK', 'SV', 'TH', 'TN', 'TR', 'TW', 'UA', 'US', 'UY', 'VN', 'XK', 'ZA'], 'disc_number': 1, 'duration_ms': 195893, 'explicit': False, 'external_ids': {'isrc': 'USAT21700603'}, 'external_urls': {'spotify': 'https://open.spotify.com/track/2jz1bw1p0WQj0PDnVDP0uY'}, 'href': 'https://api.spotify.com/v1/tracks/2jz1bw1p0WQj0PDnVDP0uY', 'id': '2jz1bw1p0WQj0PDnVDP0uY', 'is_local': False, 'name': 'Feels Like Summer', 'popularity': 57, 'preview_url': 'https://p.scdn.co/mp3-preview/530a0fa1eaf7bc59c46b4695610be07e7ce80d12?cid=e014b57873a64cf6bcae2e75f096f0d7', 'track_number': 3, 'type': 'track', 'uri': 'spotify:track:2jz1bw1p0WQj0PDnVDP0uY'}\n",
      "12 We Wish You A Merry Christmas\n",
      "{'album': {'album_type': 'single', 'artists': [{'external_urls': {'spotify': 'https://open.spotify.com/artist/3jOstUTkEu2JkjvRdBA5Gu'}, 'href': 'https://api.spotify.com/v1/artists/3jOstUTkEu2JkjvRdBA5Gu', 'id': '3jOstUTkEu2JkjvRdBA5Gu', 'name': 'Weezer', 'type': 'artist', 'uri': 'spotify:artist:3jOstUTkEu2JkjvRdBA5Gu'}], 'available_markets': ['AE', 'AR', 'AT', 'AU', 'BA', 'BE', 'BH', 'BO', 'BR', 'CA', 'CH', 'CL', 'CO', 'CR', 'CY', 'CZ', 'DE', 'DK', 'DO', 'DZ', 'EC', 'EE', 'EG', 'ES', 'FI', 'FR', 'GB', 'GR', 'GT', 'HK', 'HN', 'HR', 'HU', 'ID', 'IE', 'IL', 'IS', 'IT', 'JO', 'JP', 'KW', 'LB', 'LT', 'LU', 'LV', 'MA', 'ME', 'MK', 'MT', 'MX', 'MY', 'NI', 'NL', 'NO', 'NZ', 'OM', 'PA', 'PE', 'PH', 'PL', 'PT', 'PY', 'QA', 'RO', 'RS', 'SA', 'SE', 'SG', 'SI', 'SK', 'SV', 'TH', 'TN', 'TR', 'TW', 'UA', 'US', 'VN', 'XK', 'ZA'], 'external_urls': {'spotify': 'https://open.spotify.com/album/0CxHijFYwiAVHCGmwN0hAq'}, 'href': 'https://api.spotify.com/v1/albums/0CxHijFYwiAVHCGmwN0hAq', 'id': '0CxHijFYwiAVHCGmwN0hAq', 'images': [{'height': 640, 'url': 'https://i.scdn.co/image/ab67616d0000b273c27f8cc7788d77a17d65d8d7', 'width': 640}, {'height': 300, 'url': 'https://i.scdn.co/image/ab67616d00001e02c27f8cc7788d77a17d65d8d7', 'width': 300}, {'height': 64, 'url': 'https://i.scdn.co/image/ab67616d00004851c27f8cc7788d77a17d65d8d7', 'width': 64}], 'name': 'Christmas With Weezer', 'release_date': '2008-01-01', 'release_date_precision': 'day', 'total_tracks': 6, 'type': 'album', 'uri': 'spotify:album:0CxHijFYwiAVHCGmwN0hAq'}, 'artists': [{'external_urls': {'spotify': 'https://open.spotify.com/artist/3jOstUTkEu2JkjvRdBA5Gu'}, 'href': 'https://api.spotify.com/v1/artists/3jOstUTkEu2JkjvRdBA5Gu', 'id': '3jOstUTkEu2JkjvRdBA5Gu', 'name': 'Weezer', 'type': 'artist', 'uri': 'spotify:artist:3jOstUTkEu2JkjvRdBA5Gu'}], 'available_markets': ['AE', 'AR', 'AT', 'AU', 'BA', 'BE', 'BH', 'BO', 'BR', 'CA', 'CH', 'CL', 'CO', 'CR', 'CY', 'CZ', 'DE', 'DK', 'DO', 'DZ', 'EC', 'EE', 'EG', 'ES', 'FI', 'FR', 'GB', 'GR', 'GT', 'HK', 'HN', 'HR', 'HU', 'ID', 'IE', 'IL', 'IS', 'IT', 'JO', 'JP', 'KW', 'LB', 'LT', 'LU', 'LV', 'MA', 'ME', 'MK', 'MT', 'MX', 'MY', 'NI', 'NL', 'NO', 'NZ', 'OM', 'PA', 'PE', 'PH', 'PL', 'PT', 'PY', 'QA', 'RO', 'RS', 'SA', 'SE', 'SG', 'SI', 'SK', 'SV', 'TH', 'TN', 'TR', 'TW', 'UA', 'US', 'VN', 'XK', 'ZA'], 'disc_number': 1, 'duration_ms': 84973, 'explicit': False, 'external_ids': {'isrc': 'USUM70850993'}, 'external_urls': {'spotify': 'https://open.spotify.com/track/1swm2Hei9tUlcohs0zj7DU'}, 'href': 'https://api.spotify.com/v1/tracks/1swm2Hei9tUlcohs0zj7DU', 'id': '1swm2Hei9tUlcohs0zj7DU', 'is_local': False, 'name': 'We Wish You A Merry Christmas', 'popularity': 60, 'preview_url': None, 'track_number': 1, 'type': 'track', 'uri': 'spotify:track:1swm2Hei9tUlcohs0zj7DU'}\n",
      "13 El Scorcho\n",
      "{'album': {'album_type': 'album', 'artists': [{'external_urls': {'spotify': 'https://open.spotify.com/artist/3jOstUTkEu2JkjvRdBA5Gu'}, 'href': 'https://api.spotify.com/v1/artists/3jOstUTkEu2JkjvRdBA5Gu', 'id': '3jOstUTkEu2JkjvRdBA5Gu', 'name': 'Weezer', 'type': 'artist', 'uri': 'spotify:artist:3jOstUTkEu2JkjvRdBA5Gu'}], 'available_markets': ['AD', 'AL', 'AR', 'AT', 'AU', 'BA', 'BE', 'BG', 'BO', 'BR', 'BY', 'CA', 'CH', 'CL', 'CO', 'CR', 'CY', 'CZ', 'DE', 'DK', 'DO', 'EC', 'EE', 'ES', 'FI', 'FR', 'GB', 'GR', 'GT', 'HK', 'HN', 'HR', 'HU', 'ID', 'IE', 'IL', 'IN', 'IS', 'IT', 'JP', 'KZ', 'LI', 'LT', 'LU', 'LV', 'MC', 'MD', 'ME', 'MK', 'MT', 'MX', 'MY', 'NI', 'NL', 'NO', 'NZ', 'PA', 'PE', 'PH', 'PL', 'PS', 'PT', 'PY', 'RO', 'RS', 'RU', 'SE', 'SG', 'SI', 'SK', 'SV', 'TH', 'TR', 'TW', 'UA', 'US', 'UY', 'VN', 'XK', 'ZA'], 'external_urls': {'spotify': 'https://open.spotify.com/album/3jWhmYMAWw5NvHTTeiQtfl'}, 'href': 'https://api.spotify.com/v1/albums/3jWhmYMAWw5NvHTTeiQtfl', 'id': '3jWhmYMAWw5NvHTTeiQtfl', 'images': [{'height': 640, 'url': 'https://i.scdn.co/image/ab67616d0000b273f4f9accdc0fb8ddee29e32b7', 'width': 640}, {'height': 300, 'url': 'https://i.scdn.co/image/ab67616d00001e02f4f9accdc0fb8ddee29e32b7', 'width': 300}, {'height': 64, 'url': 'https://i.scdn.co/image/ab67616d00004851f4f9accdc0fb8ddee29e32b7', 'width': 64}], 'name': 'Pinkerton', 'release_date': '1996-09-24', 'release_date_precision': 'day', 'total_tracks': 10, 'type': 'album', 'uri': 'spotify:album:3jWhmYMAWw5NvHTTeiQtfl'}, 'artists': [{'external_urls': {'spotify': 'https://open.spotify.com/artist/3jOstUTkEu2JkjvRdBA5Gu'}, 'href': 'https://api.spotify.com/v1/artists/3jOstUTkEu2JkjvRdBA5Gu', 'id': '3jOstUTkEu2JkjvRdBA5Gu', 'name': 'Weezer', 'type': 'artist', 'uri': 'spotify:artist:3jOstUTkEu2JkjvRdBA5Gu'}], 'available_markets': ['AD', 'AL', 'AR', 'AT', 'AU', 'BA', 'BE', 'BG', 'BO', 'BR', 'BY', 'CA', 'CH', 'CL', 'CO', 'CR', 'CY', 'CZ', 'DE', 'DK', 'DO', 'EC', 'EE', 'ES', 'FI', 'FR', 'GB', 'GR', 'GT', 'HK', 'HN', 'HR', 'HU', 'ID', 'IE', 'IL', 'IN', 'IS', 'IT', 'JP', 'KZ', 'LI', 'LT', 'LU', 'LV', 'MC', 'MD', 'ME', 'MK', 'MT', 'MX', 'MY', 'NI', 'NL', 'NO', 'NZ', 'PA', 'PE', 'PH', 'PL', 'PS', 'PT', 'PY', 'RO', 'RS', 'RU', 'SE', 'SG', 'SI', 'SK', 'SV', 'TH', 'TR', 'TW', 'UA', 'US', 'UY', 'VN', 'XK', 'ZA'], 'disc_number': 1, 'duration_ms': 243466, 'explicit': False, 'external_ids': {'isrc': 'USGF19600707'}, 'external_urls': {'spotify': 'https://open.spotify.com/track/3g2gQMeeQAEPztiQKMlGSl'}, 'href': 'https://api.spotify.com/v1/tracks/3g2gQMeeQAEPztiQKMlGSl', 'id': '3g2gQMeeQAEPztiQKMlGSl', 'is_local': False, 'name': 'El Scorcho', 'popularity': 56, 'preview_url': None, 'track_number': 7, 'type': 'track', 'uri': 'spotify:track:3g2gQMeeQAEPztiQKMlGSl'}\n",
      "14 Take on Me\n",
      "{'album': {'album_type': 'album', 'artists': [{'external_urls': {'spotify': 'https://open.spotify.com/artist/3jOstUTkEu2JkjvRdBA5Gu'}, 'href': 'https://api.spotify.com/v1/artists/3jOstUTkEu2JkjvRdBA5Gu', 'id': '3jOstUTkEu2JkjvRdBA5Gu', 'name': 'Weezer', 'type': 'artist', 'uri': 'spotify:artist:3jOstUTkEu2JkjvRdBA5Gu'}], 'available_markets': ['AD', 'AE', 'AL', 'AR', 'AT', 'AU', 'BA', 'BE', 'BG', 'BH', 'BO', 'BR', 'BY', 'CA', 'CH', 'CL', 'CO', 'CR', 'CY', 'CZ', 'DE', 'DK', 'DO', 'DZ', 'EC', 'EE', 'EG', 'ES', 'FI', 'FR', 'GB', 'GR', 'GT', 'HK', 'HN', 'HR', 'HU', 'ID', 'IE', 'IL', 'IN', 'IS', 'IT', 'JO', 'JP', 'KW', 'KZ', 'LB', 'LI', 'LT', 'LU', 'LV', 'MA', 'MC', 'MD', 'ME', 'MK', 'MT', 'MX', 'MY', 'NI', 'NL', 'NO', 'NZ', 'OM', 'PA', 'PE', 'PH', 'PL', 'PS', 'PT', 'PY', 'QA', 'RO', 'RS', 'RU', 'SA', 'SE', 'SG', 'SI', 'SK', 'SV', 'TH', 'TN', 'TR', 'TW', 'UA', 'US', 'UY', 'VN', 'XK', 'ZA'], 'external_urls': {'spotify': 'https://open.spotify.com/album/65sHj9PvsbyD0uugGHjueN'}, 'href': 'https://api.spotify.com/v1/albums/65sHj9PvsbyD0uugGHjueN', 'id': '65sHj9PvsbyD0uugGHjueN', 'images': [{'height': 640, 'url': 'https://i.scdn.co/image/ab67616d0000b27323473d8f0c8669583307532e', 'width': 640}, {'height': 300, 'url': 'https://i.scdn.co/image/ab67616d00001e0223473d8f0c8669583307532e', 'width': 300}, {'height': 64, 'url': 'https://i.scdn.co/image/ab67616d0000485123473d8f0c8669583307532e', 'width': 64}], 'name': 'Weezer (Teal Album)', 'release_date': '2019-01-24', 'release_date_precision': 'day', 'total_tracks': 10, 'type': 'album', 'uri': 'spotify:album:65sHj9PvsbyD0uugGHjueN'}, 'artists': [{'external_urls': {'spotify': 'https://open.spotify.com/artist/3jOstUTkEu2JkjvRdBA5Gu'}, 'href': 'https://api.spotify.com/v1/artists/3jOstUTkEu2JkjvRdBA5Gu', 'id': '3jOstUTkEu2JkjvRdBA5Gu', 'name': 'Weezer', 'type': 'artist', 'uri': 'spotify:artist:3jOstUTkEu2JkjvRdBA5Gu'}], 'available_markets': ['AD', 'AE', 'AL', 'AR', 'AT', 'AU', 'BA', 'BE', 'BG', 'BH', 'BO', 'BR', 'BY', 'CA', 'CH', 'CL', 'CO', 'CR', 'CY', 'CZ', 'DE', 'DK', 'DO', 'DZ', 'EC', 'EE', 'EG', 'ES', 'FI', 'FR', 'GB', 'GR', 'GT', 'HK', 'HN', 'HR', 'HU', 'ID', 'IE', 'IL', 'IN', 'IS', 'IT', 'JO', 'JP', 'KW', 'KZ', 'LB', 'LI', 'LT', 'LU', 'LV', 'MA', 'MC', 'MD', 'ME', 'MK', 'MT', 'MX', 'MY', 'NI', 'NL', 'NO', 'NZ', 'OM', 'PA', 'PE', 'PH', 'PL', 'PS', 'PT', 'PY', 'QA', 'RO', 'RS', 'RU', 'SA', 'SE', 'SG', 'SI', 'SK', 'SV', 'TH', 'TN', 'TR', 'TW', 'UA', 'US', 'UY', 'VN', 'XK', 'ZA'], 'disc_number': 1, 'duration_ms': 223560, 'explicit': False, 'external_ids': {'isrc': 'USAT21900609'}, 'external_urls': {'spotify': 'https://open.spotify.com/track/1ZB2qWsheGabSEYvBYxjKn'}, 'href': 'https://api.spotify.com/v1/tracks/1ZB2qWsheGabSEYvBYxjKn', 'id': '1ZB2qWsheGabSEYvBYxjKn', 'is_local': False, 'name': 'Take on Me', 'popularity': 59, 'preview_url': 'https://p.scdn.co/mp3-preview/80619d72824409cc5c381edd1f514f3bb8e65a76?cid=e014b57873a64cf6bcae2e75f096f0d7', 'track_number': 4, 'type': 'track', 'uri': 'spotify:track:1ZB2qWsheGabSEYvBYxjKn'}\n",
      "15 Island In The Sun\n",
      "{'album': {'album_type': 'album', 'artists': [{'external_urls': {'spotify': 'https://open.spotify.com/artist/0LyfQWJT6nXafLPZqxe9Of'}, 'href': 'https://api.spotify.com/v1/artists/0LyfQWJT6nXafLPZqxe9Of', 'id': '0LyfQWJT6nXafLPZqxe9Of', 'name': 'Various Artists', 'type': 'artist', 'uri': 'spotify:artist:0LyfQWJT6nXafLPZqxe9Of'}], 'available_markets': ['AE', 'AL', 'AR', 'AT', 'AU', 'BA', 'BE', 'BG', 'BH', 'BO', 'BR', 'BY', 'CA', 'CH', 'CL', 'CO', 'CR', 'CY', 'CZ', 'DE', 'DK', 'DO', 'DZ', 'EC', 'EE', 'EG', 'ES', 'FI', 'FR', 'GB', 'GR', 'GT', 'HK', 'HN', 'HR', 'HU', 'ID', 'IE', 'IL', 'IN', 'IS', 'IT', 'JP', 'KW', 'LB', 'LT', 'LU', 'LV', 'MA', 'ME', 'MK', 'MT', 'MX', 'MY', 'NI', 'NL', 'NO', 'NZ', 'OM', 'PA', 'PE', 'PH', 'PL', 'PT', 'PY', 'QA', 'RO', 'RS', 'RU', 'SA', 'SE', 'SG', 'SI', 'SK', 'SV', 'TH', 'TN', 'TR', 'TW', 'UA', 'US', 'UY', 'VN', 'XK', 'ZA'], 'external_urls': {'spotify': 'https://open.spotify.com/album/6lWNLZsZZD8BQA8LkOMnfj'}, 'href': 'https://api.spotify.com/v1/albums/6lWNLZsZZD8BQA8LkOMnfj', 'id': '6lWNLZsZZD8BQA8LkOMnfj', 'images': [{'height': 640, 'url': 'https://i.scdn.co/image/ab67616d0000b2737e0abc11da1069cb04b74ae9', 'width': 640}, {'height': 300, 'url': 'https://i.scdn.co/image/ab67616d00001e027e0abc11da1069cb04b74ae9', 'width': 300}, {'height': 64, 'url': 'https://i.scdn.co/image/ab67616d000048517e0abc11da1069cb04b74ae9', 'width': 64}], 'name': 'Esenciales Rock Alternativo', 'release_date': '2021-01-11', 'release_date_precision': 'day', 'total_tracks': 39, 'type': 'album', 'uri': 'spotify:album:6lWNLZsZZD8BQA8LkOMnfj'}, 'artists': [{'external_urls': {'spotify': 'https://open.spotify.com/artist/3jOstUTkEu2JkjvRdBA5Gu'}, 'href': 'https://api.spotify.com/v1/artists/3jOstUTkEu2JkjvRdBA5Gu', 'id': '3jOstUTkEu2JkjvRdBA5Gu', 'name': 'Weezer', 'type': 'artist', 'uri': 'spotify:artist:3jOstUTkEu2JkjvRdBA5Gu'}], 'available_markets': ['AE', 'AL', 'AR', 'AT', 'AU', 'BA', 'BE', 'BG', 'BH', 'BO', 'BR', 'BY', 'CA', 'CH', 'CL', 'CO', 'CR', 'CY', 'CZ', 'DE', 'DK', 'DO', 'DZ', 'EC', 'EE', 'EG', 'ES', 'FI', 'FR', 'GB', 'GR', 'GT', 'HK', 'HN', 'HR', 'HU', 'ID', 'IE', 'IL', 'IN', 'IS', 'IT', 'JP', 'KW', 'LB', 'LT', 'LU', 'LV', 'MA', 'ME', 'MK', 'MT', 'MX', 'MY', 'NI', 'NL', 'NO', 'NZ', 'OM', 'PA', 'PE', 'PH', 'PL', 'PT', 'PY', 'QA', 'RO', 'RS', 'RU', 'SA', 'SE', 'SG', 'SI', 'SK', 'SV', 'TH', 'TN', 'TR', 'TW', 'UA', 'US', 'UY', 'VN', 'XK', 'ZA'], 'disc_number': 1, 'duration_ms': 200053, 'explicit': False, 'external_ids': {'isrc': 'USIR10110358'}, 'external_urls': {'spotify': 'https://open.spotify.com/track/2UvNGQ8SHlOS9cwq85BtwO'}, 'href': 'https://api.spotify.com/v1/tracks/2UvNGQ8SHlOS9cwq85BtwO', 'id': '2UvNGQ8SHlOS9cwq85BtwO', 'is_local': False, 'name': 'Island In The Sun', 'popularity': 0, 'preview_url': None, 'track_number': 35, 'type': 'track', 'uri': 'spotify:track:2UvNGQ8SHlOS9cwq85BtwO'}\n",
      "16 Buddy Holly\n",
      "{'album': {'album_type': 'compilation', 'artists': [{'external_urls': {'spotify': 'https://open.spotify.com/artist/0LyfQWJT6nXafLPZqxe9Of'}, 'href': 'https://api.spotify.com/v1/artists/0LyfQWJT6nXafLPZqxe9Of', 'id': '0LyfQWJT6nXafLPZqxe9Of', 'name': 'Various Artists', 'type': 'artist', 'uri': 'spotify:artist:0LyfQWJT6nXafLPZqxe9Of'}], 'available_markets': ['AE', 'AL', 'AR', 'AT', 'AU', 'BA', 'BE', 'BG', 'BH', 'BO', 'BR', 'BY', 'CA', 'CH', 'CL', 'CO', 'CR', 'CY', 'CZ', 'DE', 'DK', 'DO', 'DZ', 'EC', 'EE', 'EG', 'ES', 'FI', 'FR', 'GB', 'GR', 'GT', 'HK', 'HN', 'HR', 'HU', 'ID', 'IE', 'IL', 'IN', 'IS', 'IT', 'JP', 'KW', 'LB', 'LT', 'LU', 'LV', 'MA', 'ME', 'MK', 'MT', 'MX', 'MY', 'NI', 'NL', 'NO', 'NZ', 'OM', 'PA', 'PE', 'PH', 'PL', 'PT', 'PY', 'QA', 'RO', 'RS', 'RU', 'SA', 'SE', 'SG', 'SI', 'SK', 'SV', 'TH', 'TN', 'TR', 'TW', 'UA', 'US', 'UY', 'VN', 'XK', 'ZA'], 'external_urls': {'spotify': 'https://open.spotify.com/album/3NIjbnvM8NKJD6kcL3GIVn'}, 'href': 'https://api.spotify.com/v1/albums/3NIjbnvM8NKJD6kcL3GIVn', 'id': '3NIjbnvM8NKJD6kcL3GIVn', 'images': [{'height': 640, 'url': 'https://i.scdn.co/image/ab67616d0000b2739941c7dd35325adfda4ef4cd', 'width': 640}, {'height': 300, 'url': 'https://i.scdn.co/image/ab67616d00001e029941c7dd35325adfda4ef4cd', 'width': 300}, {'height': 64, 'url': 'https://i.scdn.co/image/ab67616d000048519941c7dd35325adfda4ef4cd', 'width': 64}], 'name': \"Hits 80's & 90's\", 'release_date': '2021-01-11', 'release_date_precision': 'day', 'total_tracks': 74, 'type': 'album', 'uri': 'spotify:album:3NIjbnvM8NKJD6kcL3GIVn'}, 'artists': [{'external_urls': {'spotify': 'https://open.spotify.com/artist/3jOstUTkEu2JkjvRdBA5Gu'}, 'href': 'https://api.spotify.com/v1/artists/3jOstUTkEu2JkjvRdBA5Gu', 'id': '3jOstUTkEu2JkjvRdBA5Gu', 'name': 'Weezer', 'type': 'artist', 'uri': 'spotify:artist:3jOstUTkEu2JkjvRdBA5Gu'}], 'available_markets': ['AE', 'AL', 'AR', 'AT', 'AU', 'BA', 'BE', 'BG', 'BH', 'BO', 'BR', 'BY', 'CA', 'CH', 'CL', 'CO', 'CR', 'CY', 'CZ', 'DE', 'DK', 'DO', 'DZ', 'EC', 'EE', 'EG', 'ES', 'FI', 'FR', 'GB', 'GR', 'GT', 'HK', 'HN', 'HR', 'HU', 'ID', 'IE', 'IL', 'IN', 'IS', 'IT', 'JP', 'KW', 'LB', 'LT', 'LU', 'LV', 'MA', 'ME', 'MK', 'MT', 'MX', 'MY', 'NI', 'NL', 'NO', 'NZ', 'OM', 'PA', 'PE', 'PH', 'PL', 'PT', 'PY', 'QA', 'RO', 'RS', 'RU', 'SA', 'SE', 'SG', 'SI', 'SK', 'SV', 'TH', 'TN', 'TR', 'TW', 'UA', 'US', 'UY', 'VN', 'XK', 'ZA'], 'disc_number': 1, 'duration_ms': 159226, 'explicit': False, 'external_ids': {'isrc': 'USGF19562907'}, 'external_urls': {'spotify': 'https://open.spotify.com/track/04iB5pAS3WabrTiqhf0y9j'}, 'href': 'https://api.spotify.com/v1/tracks/04iB5pAS3WabrTiqhf0y9j', 'id': '04iB5pAS3WabrTiqhf0y9j', 'is_local': False, 'name': 'Buddy Holly', 'popularity': 1, 'preview_url': None, 'track_number': 48, 'type': 'track', 'uri': 'spotify:track:04iB5pAS3WabrTiqhf0y9j'}\n",
      "17 Hash Pipe\n",
      "{'album': {'album_type': 'album', 'artists': [{'external_urls': {'spotify': 'https://open.spotify.com/artist/0LyfQWJT6nXafLPZqxe9Of'}, 'href': 'https://api.spotify.com/v1/artists/0LyfQWJT6nXafLPZqxe9Of', 'id': '0LyfQWJT6nXafLPZqxe9Of', 'name': 'Various Artists', 'type': 'artist', 'uri': 'spotify:artist:0LyfQWJT6nXafLPZqxe9Of'}], 'available_markets': ['AE', 'AL', 'AR', 'AT', 'AU', 'BA', 'BE', 'BG', 'BH', 'BO', 'BR', 'BY', 'CA', 'CH', 'CL', 'CO', 'CR', 'CY', 'CZ', 'DE', 'DK', 'DO', 'DZ', 'EC', 'EE', 'EG', 'ES', 'FI', 'FR', 'GB', 'GR', 'GT', 'HK', 'HN', 'HR', 'HU', 'ID', 'IE', 'IL', 'IN', 'IS', 'IT', 'JP', 'KW', 'LB', 'LT', 'LU', 'LV', 'MA', 'ME', 'MK', 'MT', 'MX', 'MY', 'NI', 'NL', 'NO', 'NZ', 'OM', 'PA', 'PE', 'PH', 'PL', 'PT', 'PY', 'QA', 'RO', 'RS', 'RU', 'SA', 'SE', 'SG', 'SI', 'SK', 'SV', 'TH', 'TN', 'TR', 'TW', 'UA', 'US', 'UY', 'VN', 'XK', 'ZA'], 'external_urls': {'spotify': 'https://open.spotify.com/album/6lWNLZsZZD8BQA8LkOMnfj'}, 'href': 'https://api.spotify.com/v1/albums/6lWNLZsZZD8BQA8LkOMnfj', 'id': '6lWNLZsZZD8BQA8LkOMnfj', 'images': [{'height': 640, 'url': 'https://i.scdn.co/image/ab67616d0000b2737e0abc11da1069cb04b74ae9', 'width': 640}, {'height': 300, 'url': 'https://i.scdn.co/image/ab67616d00001e027e0abc11da1069cb04b74ae9', 'width': 300}, {'height': 64, 'url': 'https://i.scdn.co/image/ab67616d000048517e0abc11da1069cb04b74ae9', 'width': 64}], 'name': 'Esenciales Rock Alternativo', 'release_date': '2021-01-11', 'release_date_precision': 'day', 'total_tracks': 39, 'type': 'album', 'uri': 'spotify:album:6lWNLZsZZD8BQA8LkOMnfj'}, 'artists': [{'external_urls': {'spotify': 'https://open.spotify.com/artist/3jOstUTkEu2JkjvRdBA5Gu'}, 'href': 'https://api.spotify.com/v1/artists/3jOstUTkEu2JkjvRdBA5Gu', 'id': '3jOstUTkEu2JkjvRdBA5Gu', 'name': 'Weezer', 'type': 'artist', 'uri': 'spotify:artist:3jOstUTkEu2JkjvRdBA5Gu'}], 'available_markets': ['AE', 'AL', 'AR', 'AT', 'AU', 'BA', 'BE', 'BG', 'BH', 'BO', 'BR', 'BY', 'CA', 'CH', 'CL', 'CO', 'CR', 'CY', 'CZ', 'DE', 'DK', 'DO', 'DZ', 'EC', 'EE', 'EG', 'ES', 'FI', 'FR', 'GB', 'GR', 'GT', 'HK', 'HN', 'HR', 'HU', 'ID', 'IE', 'IL', 'IN', 'IS', 'IT', 'JP', 'KW', 'LB', 'LT', 'LU', 'LV', 'MA', 'ME', 'MK', 'MT', 'MX', 'MY', 'NI', 'NL', 'NO', 'NZ', 'OM', 'PA', 'PE', 'PH', 'PL', 'PT', 'PY', 'QA', 'RO', 'RS', 'RU', 'SA', 'SE', 'SG', 'SI', 'SK', 'SV', 'TH', 'TN', 'TR', 'TW', 'UA', 'US', 'UY', 'VN', 'XK', 'ZA'], 'disc_number': 1, 'duration_ms': 186533, 'explicit': False, 'external_ids': {'isrc': 'USIR10110319'}, 'external_urls': {'spotify': 'https://open.spotify.com/track/2pvZzZU4Fo12wF3UdSgcmI'}, 'href': 'https://api.spotify.com/v1/tracks/2pvZzZU4Fo12wF3UdSgcmI', 'id': '2pvZzZU4Fo12wF3UdSgcmI', 'is_local': False, 'name': 'Hash Pipe', 'popularity': 0, 'preview_url': None, 'track_number': 19, 'type': 'track', 'uri': 'spotify:track:2pvZzZU4Fo12wF3UdSgcmI'}\n",
      "18 Undone - The Sweater Song\n",
      "{'album': {'album_type': 'album', 'artists': [{'external_urls': {'spotify': 'https://open.spotify.com/artist/0LyfQWJT6nXafLPZqxe9Of'}, 'href': 'https://api.spotify.com/v1/artists/0LyfQWJT6nXafLPZqxe9Of', 'id': '0LyfQWJT6nXafLPZqxe9Of', 'name': 'Various Artists', 'type': 'artist', 'uri': 'spotify:artist:0LyfQWJT6nXafLPZqxe9Of'}], 'available_markets': ['AE', 'AL', 'AR', 'AT', 'AU', 'BA', 'BE', 'BG', 'BH', 'BO', 'BR', 'BY', 'CA', 'CH', 'CL', 'CO', 'CR', 'CY', 'CZ', 'DE', 'DK', 'DO', 'DZ', 'EC', 'EE', 'EG', 'ES', 'FI', 'FR', 'GB', 'GR', 'GT', 'HK', 'HN', 'HR', 'HU', 'ID', 'IE', 'IL', 'IN', 'IS', 'IT', 'JP', 'KW', 'LB', 'LT', 'LU', 'LV', 'MA', 'ME', 'MK', 'MT', 'MX', 'MY', 'NI', 'NL', 'NO', 'NZ', 'OM', 'PA', 'PE', 'PH', 'PL', 'PT', 'PY', 'QA', 'RO', 'RS', 'RU', 'SA', 'SE', 'SG', 'SI', 'SK', 'SV', 'TH', 'TN', 'TR', 'TW', 'UA', 'US', 'UY', 'VN', 'XK', 'ZA'], 'external_urls': {'spotify': 'https://open.spotify.com/album/6lWNLZsZZD8BQA8LkOMnfj'}, 'href': 'https://api.spotify.com/v1/albums/6lWNLZsZZD8BQA8LkOMnfj', 'id': '6lWNLZsZZD8BQA8LkOMnfj', 'images': [{'height': 640, 'url': 'https://i.scdn.co/image/ab67616d0000b2737e0abc11da1069cb04b74ae9', 'width': 640}, {'height': 300, 'url': 'https://i.scdn.co/image/ab67616d00001e027e0abc11da1069cb04b74ae9', 'width': 300}, {'height': 64, 'url': 'https://i.scdn.co/image/ab67616d000048517e0abc11da1069cb04b74ae9', 'width': 64}], 'name': 'Esenciales Rock Alternativo', 'release_date': '2021-01-11', 'release_date_precision': 'day', 'total_tracks': 39, 'type': 'album', 'uri': 'spotify:album:6lWNLZsZZD8BQA8LkOMnfj'}, 'artists': [{'external_urls': {'spotify': 'https://open.spotify.com/artist/3jOstUTkEu2JkjvRdBA5Gu'}, 'href': 'https://api.spotify.com/v1/artists/3jOstUTkEu2JkjvRdBA5Gu', 'id': '3jOstUTkEu2JkjvRdBA5Gu', 'name': 'Weezer', 'type': 'artist', 'uri': 'spotify:artist:3jOstUTkEu2JkjvRdBA5Gu'}], 'available_markets': ['AE', 'AL', 'AR', 'AT', 'AU', 'BA', 'BE', 'BG', 'BH', 'BO', 'BR', 'BY', 'CA', 'CH', 'CL', 'CO', 'CR', 'CY', 'CZ', 'DE', 'DK', 'DO', 'DZ', 'EC', 'EE', 'EG', 'ES', 'FI', 'FR', 'GB', 'GR', 'GT', 'HK', 'HN', 'HR', 'HU', 'ID', 'IE', 'IL', 'IN', 'IS', 'IT', 'JP', 'KW', 'LB', 'LT', 'LU', 'LV', 'MA', 'ME', 'MK', 'MT', 'MX', 'MY', 'NI', 'NL', 'NO', 'NZ', 'OM', 'PA', 'PE', 'PH', 'PL', 'PT', 'PY', 'QA', 'RO', 'RS', 'RU', 'SA', 'SE', 'SG', 'SI', 'SK', 'SV', 'TH', 'TN', 'TR', 'TW', 'UA', 'US', 'UY', 'VN', 'XK', 'ZA'], 'disc_number': 1, 'duration_ms': 305480, 'explicit': False, 'external_ids': {'isrc': 'USGF19962905'}, 'external_urls': {'spotify': 'https://open.spotify.com/track/6Y8oP9qf4RAQiY9OBlHmgU'}, 'href': 'https://api.spotify.com/v1/tracks/6Y8oP9qf4RAQiY9OBlHmgU', 'id': '6Y8oP9qf4RAQiY9OBlHmgU', 'is_local': False, 'name': 'Undone - The Sweater Song', 'popularity': 0, 'preview_url': None, 'track_number': 3, 'type': 'track', 'uri': 'spotify:track:6Y8oP9qf4RAQiY9OBlHmgU'}\n",
      "19 Say It Ain't So\n",
      "{'album': {'album_type': 'album', 'artists': [{'external_urls': {'spotify': 'https://open.spotify.com/artist/0LyfQWJT6nXafLPZqxe9Of'}, 'href': 'https://api.spotify.com/v1/artists/0LyfQWJT6nXafLPZqxe9Of', 'id': '0LyfQWJT6nXafLPZqxe9Of', 'name': 'Various Artists', 'type': 'artist', 'uri': 'spotify:artist:0LyfQWJT6nXafLPZqxe9Of'}], 'available_markets': ['AE', 'AL', 'AR', 'AT', 'AU', 'BA', 'BE', 'BG', 'BH', 'BO', 'BR', 'BY', 'CA', 'CH', 'CL', 'CO', 'CR', 'CY', 'CZ', 'DE', 'DK', 'DO', 'DZ', 'EC', 'EE', 'EG', 'ES', 'FI', 'FR', 'GB', 'GR', 'GT', 'HK', 'HN', 'HR', 'HU', 'ID', 'IE', 'IL', 'IN', 'IS', 'IT', 'JP', 'KW', 'LB', 'LT', 'LU', 'LV', 'MA', 'ME', 'MK', 'MT', 'MX', 'MY', 'NI', 'NL', 'NO', 'NZ', 'OM', 'PA', 'PE', 'PH', 'PL', 'PT', 'PY', 'QA', 'RO', 'RS', 'RU', 'SA', 'SE', 'SG', 'SI', 'SK', 'SV', 'TH', 'TN', 'TR', 'TW', 'UA', 'US', 'UY', 'VN', 'XK', 'ZA'], 'external_urls': {'spotify': 'https://open.spotify.com/album/6lWNLZsZZD8BQA8LkOMnfj'}, 'href': 'https://api.spotify.com/v1/albums/6lWNLZsZZD8BQA8LkOMnfj', 'id': '6lWNLZsZZD8BQA8LkOMnfj', 'images': [{'height': 640, 'url': 'https://i.scdn.co/image/ab67616d0000b2737e0abc11da1069cb04b74ae9', 'width': 640}, {'height': 300, 'url': 'https://i.scdn.co/image/ab67616d00001e027e0abc11da1069cb04b74ae9', 'width': 300}, {'height': 64, 'url': 'https://i.scdn.co/image/ab67616d000048517e0abc11da1069cb04b74ae9', 'width': 64}], 'name': 'Esenciales Rock Alternativo', 'release_date': '2021-01-11', 'release_date_precision': 'day', 'total_tracks': 39, 'type': 'album', 'uri': 'spotify:album:6lWNLZsZZD8BQA8LkOMnfj'}, 'artists': [{'external_urls': {'spotify': 'https://open.spotify.com/artist/3jOstUTkEu2JkjvRdBA5Gu'}, 'href': 'https://api.spotify.com/v1/artists/3jOstUTkEu2JkjvRdBA5Gu', 'id': '3jOstUTkEu2JkjvRdBA5Gu', 'name': 'Weezer', 'type': 'artist', 'uri': 'spotify:artist:3jOstUTkEu2JkjvRdBA5Gu'}], 'available_markets': ['AE', 'AL', 'AR', 'AT', 'AU', 'BA', 'BE', 'BG', 'BH', 'BO', 'BR', 'BY', 'CA', 'CH', 'CL', 'CO', 'CR', 'CY', 'CZ', 'DE', 'DK', 'DO', 'DZ', 'EC', 'EE', 'EG', 'ES', 'FI', 'FR', 'GB', 'GR', 'GT', 'HK', 'HN', 'HR', 'HU', 'ID', 'IE', 'IL', 'IN', 'IS', 'IT', 'JP', 'KW', 'LB', 'LT', 'LU', 'LV', 'MA', 'ME', 'MK', 'MT', 'MX', 'MY', 'NI', 'NL', 'NO', 'NZ', 'OM', 'PA', 'PE', 'PH', 'PL', 'PT', 'PY', 'QA', 'RO', 'RS', 'RU', 'SA', 'SE', 'SG', 'SI', 'SK', 'SV', 'TH', 'TN', 'TR', 'TW', 'UA', 'US', 'UY', 'VN', 'XK', 'ZA'], 'disc_number': 1, 'duration_ms': 258825, 'explicit': False, 'external_ids': {'isrc': 'USGF19962907'}, 'external_urls': {'spotify': 'https://open.spotify.com/track/2y3gQq0mTJlfLCkPgUmlAt'}, 'href': 'https://api.spotify.com/v1/tracks/2y3gQq0mTJlfLCkPgUmlAt', 'id': '2y3gQq0mTJlfLCkPgUmlAt', 'is_local': False, 'name': \"Say It Ain't So\", 'popularity': 0, 'preview_url': None, 'track_number': 5, 'type': 'track', 'uri': 'spotify:track:2y3gQq0mTJlfLCkPgUmlAt'}\n"
     ]
    }
   ],
   "source": [
    "import spotipy\n",
    "from spotipy.oauth2 import SpotifyClientCredentials\n",
    "\n",
    "sp = spotipy.Spotify(auth_manager=SpotifyClientCredentials(client_id=\"e014b57873a64cf6bcae2e75f096f0d7\",\n",
    "                                                            client_secret=\"463ff7b476934c5c874fcfc64ccb8d85\"))\n",
    "\n",
    "results = sp.search(q='weezer', limit=20)\n",
    "for idx, track in enumerate(results['tracks']['items']):\n",
    "    print(idx, track['name'])\n",
    "    print(track)"
   ]
  },
  {
   "cell_type": "code",
   "execution_count": null,
   "metadata": {},
   "outputs": [],
   "source": []
  }
 ],
 "metadata": {
  "kernelspec": {
   "display_name": "Python 3",
   "language": "python",
   "name": "python3"
  },
  "language_info": {
   "codemirror_mode": {
    "name": "ipython",
    "version": 3
   },
   "file_extension": ".py",
   "mimetype": "text/x-python",
   "name": "python",
   "nbconvert_exporter": "python",
   "pygments_lexer": "ipython3",
   "version": "3.7.6"
  }
 },
 "nbformat": 4,
 "nbformat_minor": 4
}
